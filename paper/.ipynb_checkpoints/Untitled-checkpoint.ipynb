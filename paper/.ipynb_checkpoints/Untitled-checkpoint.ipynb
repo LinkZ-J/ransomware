{
 "cells": [
  {
   "cell_type": "code",
   "execution_count": 9,
   "id": "conventional-clerk",
   "metadata": {},
   "outputs": [],
   "source": [
    "from sklearn.feature_extraction import DictVectorizer\n",
    "import csv\n",
    "from sklearn import tree\n",
    "from sklearn import preprocessing\n",
    "from six import StringIO\n",
    "import json\n",
    "import pandas\n",
    "import os"
   ]
  },
  {
   "cell_type": "code",
   "execution_count": 2,
   "id": "million-disorder",
   "metadata": {},
   "outputs": [],
   "source": [
    "transactions = []"
   ]
  },
  {
   "cell_type": "code",
   "execution_count": 10,
   "id": "widespread-efficiency",
   "metadata": {},
   "outputs": [],
   "source": [
    "def loopLoad(path):\n",
    "    for i,j,k in os.walk(path):\n",
    "        print(i,j,k)"
   ]
  },
  {
   "cell_type": "code",
   "execution_count": null,
   "id": "biblical-hamburg",
   "metadata": {},
   "outputs": [],
   "source": [
    "loopLoad(r\"R:\\paper\\raw\\ransomware\\ransomwareTxs\")"
   ]
  },
  {
   "cell_type": "code",
   "execution_count": 3,
   "id": "daily-gentleman",
   "metadata": {},
   "outputs": [],
   "source": [
    "def readFile(str):\n",
    "    f = open(str)\n",
    "    line = f.readline()\n",
    "    print(f.name.split('_txs.json')[0])\n",
    "    \n",
    "    while line:\n",
    "        print(line)\n",
    "        jsonData = json.loads(line)\n",
    "        transactions.append(jsonData)\n",
    "\n",
    "        line = f.readline()\n",
    "\n",
    "    f.close()"
   ]
  },
  {
   "cell_type": "code",
   "execution_count": 4,
   "id": "combined-watershed",
   "metadata": {},
   "outputs": [
    {
     "name": "stdout",
     "output_type": "stream",
     "text": [
      "R:\\paper\\raw\\ransomware\\ransomwareTxs\\7ev3n\\1Lud76Q98VRHCUiyK7XUs7AgFofrqXeP78\n",
      "{\"version\":1,\"size\":260,\"locktime\":0,\"n_in\":1,\"n_out\":3,\"vin\":[{\"txid\":\"1f7fbfff00191573863178889618c66ab81995aa7ed308956012b625d147e9e5\",\"vout\":0,\"scriptSig\":\"3045022100fbd299af984b36f2b1ed5478f0c0b3b74bfa5acde297f3c76a3698117ebbf8e402207dea2ece83d692addd844df1e5b5b01a803e30f6fbd5f706acb674b027473acf01 03e27772b0ca59440bb96f1195872f930b0cab34cf9d83a2499b09aa77358c8d05\",\"sequence\":4294967295,\"value\":1.31419771,\"address\":\"15gqbKFX9GYsDzWiH3odZTfzrGqeEg7B4r\",\"user\":143104887}],\"vout\":[{\"value\":0.0565,\"n\":0,\"pubkeyhash\":\"OP_DUP OP_HASH160 d7572da44bbc19460d727a05f4ab14c8054823a8 OP_EQUALVERIFY OP_CHECKSIG\",\"address\":\"1LdciVqZpGAmP8z3Wg3jcFyPDbohRkFhUY\",\"spent\":\"True\",\"spent_tx\":\"e72a7172910af30c59e64eb348811cc1b340173d3ae6e0838f977bf344df1142\",\"spent_timestamp\":\"2016-04-30 13:19:29\",\"user\":143527423},{\"value\":0.00111225,\"n\":1,\"pubkeyhash\":\"OP_DUP OP_HASH160 da5e28acb75b02a113fb52a0f12110d012cdcd46 OP_EQUALVERIFY OP_CHECKSIG\",\"address\":\"1Lud76Q98VRHCUiyK7XUs7AgFofrqXeP78\",\"spent\":\"True\",\"spent_tx\":\"4119a3aa35e594004e739e69961c8bd120a59a9232b5b82c31ba359a5302dd62\",\"spent_timestamp\":\"2017-11-29 07:39:27\",\"user\":143527424},{\"value\":1.25634706,\"n\":2,\"pubkeyhash\":\"OP_DUP OP_HASH160 d2734b031cae5bbade1653b6112c0b757e06c6d1 OP_EQUALVERIFY OP_CHECKSIG\",\"address\":\"1LBm1z3oqLMaJKYQxftggZNz91bkUauwod\",\"spent\":\"True\",\"spent_tx\":\"9f656baf51b222a7d4b0eff6ee1701706515d85e1b0bdb965ed43da6e053bf8e\",\"spent_timestamp\":\"2016-04-30 19:34:39\",\"user\":143527422}],\"timestamp\":1461902458,\"_id\":\"3d798b16362f0394a398e77c53024b62d028e25fb8da43f6011897dc8e4e6b97\",\"linked\":\"True\"}\n",
      "\n",
      "{\"version\":1,\"size\":226,\"locktime\":0,\"n_in\":1,\"n_out\":2,\"vin\":[{\"txid\":\"3d798b16362f0394a398e77c53024b62d028e25fb8da43f6011897dc8e4e6b97\",\"vout\":1,\"scriptSig\":\"3045022100c73e776f47456ac7e7a0a83ebbba8f5250b893fbc095bddb3864d353b536f5d002205950fcda529c6dcf5e1fe35e1e80f8dedee2ad6b1c50935c2d7b7d5af509b3d301 02f8e16d8ae73ab5c74c8bd792b9edd40c538ae657e943b533aecfd9c50b6bbc3b\",\"sequence\":4294967295,\"value\":0.00111225,\"address\":\"1Lud76Q98VRHCUiyK7XUs7AgFofrqXeP78\",\"user\":143527424}],\"vout\":[{\"value\":0.00004937,\"n\":0,\"pubkeyhash\":\"OP_DUP OP_HASH160 da5e28acb75b02a113fb52a0f12110d012cdcd46 OP_EQUALVERIFY OP_CHECKSIG\",\"address\":\"1Lud76Q98VRHCUiyK7XUs7AgFofrqXeP78\",\"user\":143527424},{\"value\":0.00090468,\"n\":1,\"pubkeyhash\":\"OP_DUP OP_HASH160 c576c49e87e70a314237c75a3b078be079c070f5 OP_EQUALVERIFY OP_CHECKSIG\",\"address\":\"1K16PwTf9jxYJs9bN3WZMq2qxbKWsdTniF\",\"spent\":\"True\",\"spent_tx\":\"bec2e68bd5a121171a322069be929aa801369c535b50d156909443ee43b81b98\",\"spent_timestamp\":\"2017-12-10 16:54:57\",\"user\":328989801}],\"timestamp\":1511912367,\"_id\":\"4119a3aa35e594004e739e69961c8bd120a59a9232b5b82c31ba359a5302dd62\"}\n",
      "\n"
     ]
    }
   ],
   "source": [
    "readFile(r\"R:\\paper\\raw\\ransomware\\ransomwareTxs\\7ev3n\\1Lud76Q98VRHCUiyK7XUs7AgFofrqXeP78_txs.json\")"
   ]
  },
  {
   "cell_type": "code",
   "execution_count": 5,
   "id": "polyphonic-clearing",
   "metadata": {},
   "outputs": [],
   "source": [
    "def buildCsv(transaction):\n",
    "    nin = []\n",
    "    nout = []\n",
    "    \n",
    "    nin.append(transaction['n_in'])\n",
    "    nout.append(transaction['n_out'])\n",
    "\n",
    "    df = pandas.DataFrame({'nin':nin,'nout':nout})"
   ]
  },
  {
   "cell_type": "code",
   "execution_count": 6,
   "id": "apparent-cartridge",
   "metadata": {},
   "outputs": [],
   "source": [
    "for i in range(len(transactions)):\n",
    "    buildCsv(transactions[i])"
   ]
  },
  {
   "cell_type": "code",
   "execution_count": 11,
   "id": "indirect-event",
   "metadata": {},
   "outputs": [],
   "source": [
    "sampleURL = \"1Lud76Q98VRHCUiyK7XUs7AgFofrqXeP78\""
   ]
  },
  {
   "cell_type": "code",
   "execution_count": null,
   "id": "european-inflation",
   "metadata": {},
   "outputs": [],
   "source": [
    "def create_csv():\n",
    "    path = r\"R:\\paper\\result.csv\"\n",
    "    with open(path,'w') as f:\n",
    "        csv_write = csv.writer(f)\n",
    "        csv_head = [\"addr\",\"\"]"
   ]
  }
 ],
 "metadata": {
  "kernelspec": {
   "display_name": "Python [conda env:.conda-py382] *",
   "language": "python",
   "name": "conda-env-.conda-py382-py"
  },
  "language_info": {
   "codemirror_mode": {
    "name": "ipython",
    "version": 3
   },
   "file_extension": ".py",
   "mimetype": "text/x-python",
   "name": "python",
   "nbconvert_exporter": "python",
   "pygments_lexer": "ipython3",
   "version": "3.8.8"
  }
 },
 "nbformat": 4,
 "nbformat_minor": 5
}
