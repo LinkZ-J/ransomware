{
 "cells": [
  {
   "cell_type": "code",
   "execution_count": 1,
   "id": "valued-prince",
   "metadata": {},
   "outputs": [],
   "source": [
    "from sklearn.feature_extraction import DictVectorizer\n",
    "import csv\n",
    "from sklearn import tree\n",
    "from sklearn import preprocessing\n",
    "from six import StringIO\n",
    "import json\n",
    "import pandas as pd\n",
    "import os\n",
    "from prettytable import PrettyTable\n",
    "import graphviz"
   ]
  },
  {
   "cell_type": "code",
   "execution_count": 6,
   "id": "completed-product",
   "metadata": {},
   "outputs": [
    {
     "data": {
      "text/plain": [
       "'03:00'"
      ]
     },
     "execution_count": 6,
     "metadata": {},
     "output_type": "execute_result"
    }
   ],
   "source": [
    "import time\n",
    "timestamp = 1459969252\n",
    "#转换成localtime\n",
    "time_local = time.localtime(timestamp)\n",
    "#转换成新的时间格式(2016-05-05 20:28:54)\n",
    "dt = time.strftime(\"%Y-%m-%d %H:%M:%S\",time_local)\n",
    "dts = time.strftime(\"%H:%M\",time_local)\n",
    "\n",
    "dts"
   ]
  },
  {
   "cell_type": "code",
   "execution_count": 8,
   "id": "interesting-sense",
   "metadata": {},
   "outputs": [
    {
     "name": "stdout",
     "output_type": "stream",
     "text": [
      "True\n"
     ]
    }
   ],
   "source": [
    "res = '8:40' > '8:30'\n",
    "print(res)"
   ]
  },
  {
   "cell_type": "code",
   "execution_count": 5,
   "id": "painful-compilation",
   "metadata": {},
   "outputs": [],
   "source": [
    "trans_map = {}\n",
    "i = 0"
   ]
  },
  {
   "cell_type": "code",
   "execution_count": 6,
   "id": "genetic-heavy",
   "metadata": {},
   "outputs": [
    {
     "data": {
      "text/plain": [
       "{0: 1}"
      ]
     },
     "execution_count": 6,
     "metadata": {},
     "output_type": "execute_result"
    }
   ],
   "source": [
    "if i not in trans_map:\n",
    "    trans_map[i] = 1\n",
    "trans_map"
   ]
  },
  {
   "cell_type": "code",
   "execution_count": 3,
   "id": "criminal-cache",
   "metadata": {},
   "outputs": [
    {
     "name": "stdout",
     "output_type": "stream",
     "text": [
      "[0, 2, 4, 7, [1, 2]]\n"
     ]
    }
   ],
   "source": [
    "list = [0,2,4,7, [1,2]]\n",
    "print(list)"
   ]
  },
  {
   "cell_type": "code",
   "execution_count": 4,
   "id": "lucky-brass",
   "metadata": {},
   "outputs": [],
   "source": [
    "if 3 not in list[4]:\n",
    "    list[4].append(3)"
   ]
  },
  {
   "cell_type": "code",
   "execution_count": 5,
   "id": "circular-impression",
   "metadata": {},
   "outputs": [
    {
     "name": "stdout",
     "output_type": "stream",
     "text": [
      "[0, 2, 4, 7, [1, 2, 3]]\n"
     ]
    }
   ],
   "source": [
    "print(list)"
   ]
  },
  {
   "cell_type": "code",
   "execution_count": 13,
   "id": "becoming-elephant",
   "metadata": {},
   "outputs": [
    {
     "ename": "TypeError",
     "evalue": "'range' object does not support item assignment",
     "output_type": "error",
     "traceback": [
      "\u001b[0;31m---------------------------------------------------------------------------\u001b[0m",
      "\u001b[0;31mTypeError\u001b[0m                                 Traceback (most recent call last)",
      "\u001b[0;32m<ipython-input-13-3db5f065a4bb>\u001b[0m in \u001b[0;36m<module>\u001b[0;34m\u001b[0m\n\u001b[1;32m      1\u001b[0m \u001b[0mll\u001b[0m \u001b[0;34m=\u001b[0m \u001b[0mrange\u001b[0m\u001b[0;34m(\u001b[0m\u001b[0;36m10\u001b[0m\u001b[0;34m)\u001b[0m\u001b[0;34m\u001b[0m\u001b[0;34m\u001b[0m\u001b[0m\n\u001b[0;32m----> 2\u001b[0;31m \u001b[0mll\u001b[0m\u001b[0;34m[\u001b[0m\u001b[0;36m1\u001b[0m\u001b[0;34m]\u001b[0m \u001b[0;34m=\u001b[0m \u001b[0;36m3\u001b[0m\u001b[0;34m\u001b[0m\u001b[0;34m\u001b[0m\u001b[0m\n\u001b[0m\u001b[1;32m      3\u001b[0m \u001b[0mll\u001b[0m\u001b[0;34m\u001b[0m\u001b[0;34m\u001b[0m\u001b[0m\n",
      "\u001b[0;31mTypeError\u001b[0m: 'range' object does not support item assignment"
     ]
    }
   ],
   "source": [
    "ll = range(10)\n",
    "ll[1] = 3\n",
    "ll"
   ]
  }
 ],
 "metadata": {
  "kernelspec": {
   "display_name": "Python [conda env:py382] *",
   "language": "python",
   "name": "conda-env-py382-py"
  },
  "language_info": {
   "codemirror_mode": {
    "name": "ipython",
    "version": 3
   },
   "file_extension": ".py",
   "mimetype": "text/x-python",
   "name": "python",
   "nbconvert_exporter": "python",
   "pygments_lexer": "ipython3",
   "version": "3.8.2"
  }
 },
 "nbformat": 4,
 "nbformat_minor": 5
}
