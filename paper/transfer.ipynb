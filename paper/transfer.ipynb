{
 "cells": [
  {
   "cell_type": "code",
   "execution_count": 1,
   "id": "rotary-piece",
   "metadata": {},
   "outputs": [],
   "source": [
    "from sklearn.feature_extraction import DictVectorizer\n",
    "import csv\n",
    "from sklearn import tree\n",
    "from sklearn import preprocessing\n",
    "from six import StringIO\n",
    "import json\n",
    "import pandas as pd\n",
    "import os\n",
    "from prettytable import PrettyTable"
   ]
  },
  {
   "cell_type": "code",
   "execution_count": 2,
   "id": "functional-occupation",
   "metadata": {},
   "outputs": [],
   "source": [
    "path = r\"/Users/linke/Desktop/myspace/git/ransomware/ransomware/ransomwareTxs\"\n",
    "# 这个地址下是相关活动地址参与的交易"
   ]
  },
  {
   "cell_type": "code",
   "execution_count": 3,
   "id": "tropical-truth",
   "metadata": {},
   "outputs": [],
   "source": [
    "messages = []"
   ]
  },
  {
   "cell_type": "code",
   "execution_count": 4,
   "id": "remarkable-tomorrow",
   "metadata": {},
   "outputs": [],
   "source": [
    "def getAddrName(str):\n",
    "    return str.split('_txs.json')[0]"
   ]
  },
  {
   "cell_type": "code",
   "execution_count": 5,
   "id": "vocational-blowing",
   "metadata": {},
   "outputs": [],
   "source": [
    "def readFile(rootName, fileName):\n",
    "    addrName = getAddrName(fileName)\n",
    "    f = open(os.path.join(rootName, fileName))\n",
    "    \n",
    "    line = f.readline()\n",
    "    while line:\n",
    "        transaction_json = json.loads(line)\n",
    "        result = handleTransJson(addrName, transaction_json)\n",
    "        messages.append(result)\n",
    "        line = f.readline()\n",
    "\n",
    "    f.close()"
   ]
  },
  {
   "cell_type": "code",
   "execution_count": 6,
   "id": "aerial-staff",
   "metadata": {},
   "outputs": [],
   "source": [
    "def calculateVoutWeights(vouts):\n",
    "    sum_vout = 0\n",
    "    max_vout = 0\n",
    "    for vout_item in vouts:\n",
    "        sum_vout += vout_item['value']\n",
    "        if vout_item['value'] > max_vout:\n",
    "            max_vout = vout_item['value']\n",
    "    return max_vout/sum_vout"
   ]
  },
  {
   "cell_type": "code",
   "execution_count": 7,
   "id": "certified-documentary",
   "metadata": {},
   "outputs": [],
   "source": [
    "def handleTransJson(addr, trans_json):\n",
    "    ransom_message = []\n",
    "    transfer_message = []\n",
    "    \n",
    "    for vin_item in trans_json['vin']:\n",
    "        if(vin_item['address'] == addr):        \n",
    "            transfer_message.append(trans_json['_id'])\n",
    "            transfer_message.append(trans_json['timestamp'])\n",
    "            transfer_message.append(trans_json['size'])\n",
    "            \n",
    "            transfer_message.append(trans_json['n_in'])\n",
    "            transfer_message.append(trans_json['n_out'])\n",
    "            \n",
    "            transfer_message.append(calculateVoutWeights(trans_json['vout']))\n",
    "            return [ransom_message, transfer_message]\n",
    "            \n",
    "    ransom_message.append(trans_json['_id'])\n",
    "    ransom_message.append(trans_json['timestamp'])\n",
    "    ransom_message.append(trans_json['size'])\n",
    "    return [ransom_message, transfer_message]"
   ]
  },
  {
   "cell_type": "code",
   "execution_count": 8,
   "id": "integral-requirement",
   "metadata": {},
   "outputs": [],
   "source": [
    "# \n",
    "# 以下代码开始运行\n",
    "# "
   ]
  },
  {
   "cell_type": "code",
   "execution_count": 9,
   "id": "electrical-coffee",
   "metadata": {
    "scrolled": true
   },
   "outputs": [],
   "source": [
    "for root,dirs,files in os.walk(path):\n",
    "    for dir in dirs:\n",
    "        for r,ds,fs in os.walk(dir):\n",
    "            for f in fs:\n",
    "                readFile(r, f)\n",
    "    for file in files:\n",
    "        readFile(root, file)"
   ]
  },
  {
   "cell_type": "code",
   "execution_count": 10,
   "id": "skilled-machine",
   "metadata": {
    "scrolled": true
   },
   "outputs": [
    {
     "name": "stdout",
     "output_type": "stream",
     "text": [
      "[['e648cfbb6611e02f500678771cc761956a5a8dabeb24a98620ca438022006fe1', 1485210697, 225], []]\n"
     ]
    }
   ],
   "source": [
    "print(messages[0])"
   ]
  },
  {
   "cell_type": "code",
   "execution_count": 11,
   "id": "historic-castle",
   "metadata": {},
   "outputs": [],
   "source": [
    "# 被勒索者支付赎金的交易\n",
    "# ransom_table = []\n",
    "# for item in messages:\n",
    "#     if item[1] == []:\n",
    "#         ransom_table.append(item[0])\n",
    "# create_csv(ransom_table, \"ransom.csv\")"
   ]
  },
  {
   "cell_type": "code",
   "execution_count": 13,
   "id": "legislative-delaware",
   "metadata": {},
   "outputs": [],
   "source": [
    "# 勒索者转出比特币的交易\n",
    "transfer_table = []\n",
    "for item in messages:\n",
    "    if item[0] == []:\n",
    "        transfer_table.append(item[1])\n",
    "\n",
    "production_path = r\"/Users/linke/Desktop/myspace/git/ransomware/production/transfer.csv\"\n",
    "# production_path = r\"R:\\paper\\transfer.csv\"\n",
    "data = pd.DataFrame(transfer_table)\n",
    "data.columns = ['tran_id','trans_time','total_amount', 'nin', 'nout', 'vout_weights']\n",
    "data.to_csv(production_path, index = False)"
   ]
  },
  {
   "cell_type": "code",
   "execution_count": null,
   "id": "convertible-personality",
   "metadata": {},
   "outputs": [],
   "source": []
  }
 ],
 "metadata": {
  "kernelspec": {
   "display_name": "Python 3",
   "language": "python",
   "name": "python3"
  },
  "language_info": {
   "codemirror_mode": {
    "name": "ipython",
    "version": 3
   },
   "file_extension": ".py",
   "mimetype": "text/x-python",
   "name": "python",
   "nbconvert_exporter": "python",
   "pygments_lexer": "ipython3",
   "version": "3.8.2"
  }
 },
 "nbformat": 4,
 "nbformat_minor": 5
}
