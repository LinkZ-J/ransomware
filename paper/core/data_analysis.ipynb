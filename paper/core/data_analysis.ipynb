{
 "cells": [
  {
   "cell_type": "code",
   "execution_count": 1,
   "id": "ethical-dispatch",
   "metadata": {},
   "outputs": [],
   "source": [
    "# 这个文件，用于生成以地址为粒度的数据"
   ]
  },
  {
   "cell_type": "code",
   "execution_count": 2,
   "id": "exterior-welsh",
   "metadata": {},
   "outputs": [],
   "source": [
    "from sklearn.feature_extraction import DictVectorizer\n",
    "from tqdm import tqdm\n",
    "import csv\n",
    "import time\n",
    "from datetime import datetime\n",
    "from sklearn import tree\n",
    "from sklearn import preprocessing\n",
    "from six import StringIO\n",
    "import json\n",
    "import pandas as pd\n",
    "import os\n",
    "from prettytable import PrettyTable\n",
    "import redis\n",
    "import json"
   ]
  },
  {
   "cell_type": "code",
   "execution_count": 3,
   "id": "insured-crystal",
   "metadata": {},
   "outputs": [],
   "source": [
    "db = redis.Redis(host= \"localhost\",port= 6379,decode_responses= True)"
   ]
  },
  {
   "cell_type": "code",
   "execution_count": 4,
   "id": "palestinian-beast",
   "metadata": {},
   "outputs": [],
   "source": [
    "# path = r\"/Users/linke/Desktop/myspace/git/2016/\"\n",
    "path = r\"R:/paper/trans/2016/\"\n",
    "\n",
    "# path = r\"/Users/linke/Desktop/myspace/git/ransomware/ransomware/ransomware/ransomwareTxs\"\n",
    "\n",
    "# production_path = r\"/Users/linke/Desktop/myspace/git/ransomware/ransomware/production/noraml_data.csv\"\n",
    "# production_path = r\"/Users/linke/Desktop/myspace/git/ransomware/ransomware/production/noraml_data.csv\"\n",
    "production_path = r\"R:/paper/git/ransomware/production/noraml_data.csv\"\n",
    "\n",
    "ransom_addrs = []"
   ]
  },
  {
   "cell_type": "code",
   "execution_count": 5,
   "id": "honest-lebanon",
   "metadata": {},
   "outputs": [],
   "source": [
    "def diff_day(t1, t2):\n",
    "    dt1 = datetime.utcfromtimestamp(t1)\n",
    "    dt2 = datetime.utcfromtimestamp(t2)\n",
    "    return (dt2 - dt1).days"
   ]
  },
  {
   "cell_type": "code",
   "execution_count": 6,
   "id": "educated-uzbekistan",
   "metadata": {},
   "outputs": [],
   "source": [
    "def analysize_timestamps(ts0, ts1, ts2):\n",
    "    result = []\n",
    "#     result.append(diff_day(max(ts1), min(ts2)))\n",
    "\n",
    "    _all = ts1 + ts2\n",
    "    _all.sort()\n",
    "    result.append(diff_day(_all[0], _all[-1]))\n",
    "\n",
    "    day = lambda ts : datetime.utcfromtimestamp(ts).date()\n",
    "    days = [day(ts) for ts in _all]\n",
    "    day_num = pd.value_counts(days)\n",
    "    for ts in ts0:\n",
    "        day_num[day(ts)] -= 1\n",
    "    result.append(len(day_num))\n",
    "    result.append(day_num.max())\n",
    "\n",
    "    if len(ts1) == 0:\n",
    "        result.append(0)\n",
    "    else:\n",
    "        result.append(1 + diff_day(min(ts1), max(ts1)))\n",
    "    if len(ts2) == 0:\n",
    "        result.append(0)\n",
    "    else:   \n",
    "        result.append(1 + diff_day(min(ts2), max(ts2)))\n",
    "\n",
    "    return result"
   ]
  },
  {
   "cell_type": "code",
   "execution_count": 7,
   "id": "grand-barcelona",
   "metadata": {},
   "outputs": [],
   "source": [
    "def read_csv_to_list(path):\n",
    "    messages = []\n",
    "    \n",
    "    for root,dirs,files in os.walk(path):\n",
    "        for dir in dirs:\n",
    "            for r,ds,fs in os.walk(dir):\n",
    "                for f in fs:\n",
    "                    readFile(messages, r, f)\n",
    "        for file in files:\n",
    "            readFile(messages, root, file)\n",
    "\n",
    "    return messages"
   ]
  },
  {
   "cell_type": "code",
   "execution_count": 8,
   "id": "cosmetic-marks",
   "metadata": {},
   "outputs": [],
   "source": [
    "def getAddrName(str):\n",
    "    return str.split('_txs.json')[0]"
   ]
  },
  {
   "cell_type": "code",
   "execution_count": 9,
   "id": "unauthorized-aerospace",
   "metadata": {},
   "outputs": [],
   "source": [
    "def readFile(messages, rootName, fileName):\n",
    "    try:\n",
    "        addrName = getAddrName(fileName)\n",
    "#         ransom_addrs.append(addrName)\n",
    "        \n",
    "        f = open(os.path.join(rootName, fileName))\n",
    "        line = f.readline()\n",
    "        while line:\n",
    "            transaction_json = json.loads(line)\n",
    "            messages.append(transaction_json)\n",
    "            line = f.readline()\n",
    "    except Exception as ex:\n",
    "        print(fileName)\n",
    "\n",
    "    f.close()"
   ]
  },
  {
   "cell_type": "code",
   "execution_count": 10,
   "id": "received-bottle",
   "metadata": {},
   "outputs": [],
   "source": [
    "# trans = {一系列交易}\n",
    "# addr_trans = {某一个地址: [ [相关事务id], [传入交易时间], [传出交易时间], 传入数量, 传入金额, 传出数量, 传出金额, \n",
    "#                          存在自己传给自己的现象的事务数量, 自己传给自己的现象的事务的金额总数, [自传自事务时间]]\n",
    "#               第二个地址: [...]}\n",
    "\n",
    "#[[事务id], [传入数量， 传入金额, 传入交易时间], [传出数量, 传出金额, 传出交易时间], [自传自数量, 金额, 时间]]"
   ]
  },
  {
   "cell_type": "code",
   "execution_count": 11,
   "id": "remarkable-genesis",
   "metadata": {},
   "outputs": [],
   "source": [
    "def rw_db(addr, index, value):\n",
    "    msg = eval(db.get(addr))\n",
    "    msg[index].append(value)\n",
    "    db.set(addr, json.dumps(msg))"
   ]
  },
  {
   "cell_type": "code",
   "execution_count": null,
   "id": "inner-amateur",
   "metadata": {},
   "outputs": [
    {
     "name": "stderr",
     "output_type": "stream",
     "text": [
      " 25%|█████████████████▉                                                       | 46386/188329 [15:09<1:27:59, 26.89it/s]"
     ]
    }
   ],
   "source": [
    "trans = read_csv_to_list(path)\n",
    "\n",
    "trash_pool = []\n",
    "\n",
    "for tran in tqdm(trans):\n",
    "    if tran in trash_pool:\n",
    "        continue\n",
    "    trash_pool.append(tran)\n",
    "    \n",
    "    in_addr = []\n",
    "    out_addr = []\n",
    "    \n",
    "    for vin in tran['vin']:\n",
    "        if 'address' not in vin:\n",
    "            continue\n",
    "            \n",
    "        addr = vin['address']\n",
    "        msg = db.get(addr)\n",
    "        if msg == None:\n",
    "            msg = [[],[],[],0,0, 0,0, 0,0, []]            \n",
    "        else:\n",
    "            msg = eval(msg)\n",
    "        \n",
    "        msg[0].append(tran['txhash'])  \n",
    "        msg[3] += 1\n",
    "        msg[4] += vin['value']\n",
    "        if addr not in in_addr:\n",
    "            in_addr.append(addr)\n",
    "        db.set(addr, json.dumps(msg))\n",
    "        \n",
    "    for vout in tran['vout']:\n",
    "        addr = vout['address']\n",
    "        msg = db.get(addr)\n",
    "        if msg == None:\n",
    "            msg = [[],[],[],0,0, 0,0, 0,0, []]\n",
    "        else:\n",
    "            msg = eval(msg)\n",
    "\n",
    "        msg[0].append(tran['txhash'])\n",
    "        msg[5] += 1\n",
    "        msg[6] += vout['value']\n",
    "        \n",
    "        if addr not in out_addr:\n",
    "            out_addr.append(addr)\n",
    "            \n",
    "        if addr in in_addr:\n",
    "            msg[7] += 1\n",
    "            msg[8] += vout['value']\n",
    "        \n",
    "        db.set(addr, json.dumps(msg))\n",
    "            \n",
    "     \n",
    "    for addr in in_addr:\n",
    "        rw_db(addr, 1, tran['timestamp'])\n",
    "    for addr in out_addr:\n",
    "        rw_db(addr, 2, tran['timestamp'])\n",
    "    for addr in in_addr:\n",
    "      if addr in out_addr:\n",
    "        rw_db(addr, 9, tran['timestamp'])"
   ]
  },
  {
   "cell_type": "code",
   "execution_count": null,
   "id": "educated-crown",
   "metadata": {},
   "outputs": [],
   "source": [
    "# 地址： 涉及交易数量, 传入数量, 传入金额, 传出数量, 传出金额, 存在自己传给自己的现象的事务数量, 自己传给自己的现象的事务的金额总数,\n",
    "# (最晚输入与最早输出天数之差), 生命周期, 活动天数, 每日最大交易次数, 传入时间的区间长度, 传出时间的区间长度"
   ]
  },
  {
   "cell_type": "code",
   "execution_count": null,
   "id": "future-ocean",
   "metadata": {},
   "outputs": [],
   "source": [
    "addr_trans = {}\n",
    "for addr in trash_pool:\n",
    "    addr_trans[addr] = eval(db.get(addr))"
   ]
  },
  {
   "cell_type": "code",
   "execution_count": null,
   "id": "impaired-furniture",
   "metadata": {},
   "outputs": [],
   "source": [
    "table = []\n",
    "for key in tqdm(addr_trans):\n",
    "    temp = []\n",
    "    temp.append(key)\n",
    "    temp.append(1 if key in ransom_addrs else 0)\n",
    "    temp.append(len(addr_trans[key][0]))\n",
    "    temp.append(addr_trans[key][3])\n",
    "    temp.append(addr_trans[key][4])\n",
    "    temp.append(addr_trans[key][5])\n",
    "    temp.append(addr_trans[key][6])\n",
    "    temp.append(addr_trans[key][7])\n",
    "    temp.append(addr_trans[key][8])\n",
    "    \n",
    "    time_data = analysize_timestamps(addr_trans[key][9], addr_trans[key][1], addr_trans[key][2])\n",
    "    temp.extend(time_data)\n",
    "    \n",
    "    table.append(temp)"
   ]
  },
  {
   "cell_type": "code",
   "execution_count": null,
   "id": "assured-cooking",
   "metadata": {},
   "outputs": [],
   "source": [
    "data = pd.DataFrame(table)\n",
    "data.columns = ['address','is_ransom','trans_num', 'in_num', 'in_coins', 'out_num', 'out_coins', 'exchanges', 'ex_coins', 'lifetime', 'active_days', 'most_perday', 'in_time_len', 'out_time_len']\n",
    "data.to_csv(production_path, index = False)"
   ]
  }
 ],
 "metadata": {
  "kernelspec": {
   "display_name": "Python [conda env:.conda-py382] *",
   "language": "python",
   "name": "conda-env-.conda-py382-py"
  },
  "language_info": {
   "codemirror_mode": {
    "name": "ipython",
    "version": 3
   },
   "file_extension": ".py",
   "mimetype": "text/x-python",
   "name": "python",
   "nbconvert_exporter": "python",
   "pygments_lexer": "ipython3",
   "version": "3.8.8"
  }
 },
 "nbformat": 4,
 "nbformat_minor": 5
}
