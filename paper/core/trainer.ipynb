{
 "cells": [
  {
   "cell_type": "code",
   "execution_count": 1,
   "id": "harmful-tracy",
   "metadata": {},
   "outputs": [],
   "source": [
    "from sklearn.feature_extraction import DictVectorizer\n",
    "import csv\n",
    "from sklearn import tree\n",
    "from sklearn import preprocessing\n",
    "from six import StringIO\n",
    "import json\n",
    "import pandas as pd\n",
    "import numpy as np\n",
    "import os\n",
    "from prettytable import PrettyTable\n",
    "import graphviz\n",
    "import time"
   ]
  },
  {
   "cell_type": "code",
   "execution_count": 2,
   "id": "adjustable-charger",
   "metadata": {},
   "outputs": [],
   "source": [
    "import matplotlib.pyplot as plt\n",
    "from sklearn.datasets import load_iris\n",
    "from sklearn.datasets import load_breast_cancer\n",
    "from sklearn.tree import DecisionTreeClassifier\n",
    "from sklearn.ensemble import RandomForestClassifier\n",
    "from sklearn.model_selection import train_test_split\n",
    "from sklearn.preprocessing import StandardScaler\n",
    "from sklearn.preprocessing import MinMaxScaler"
   ]
  },
  {
   "cell_type": "code",
   "execution_count": 3,
   "id": "boring-share",
   "metadata": {},
   "outputs": [],
   "source": [
    "feature_name = ['total_amount', 'nin', 'nout', 'vout_weights']"
   ]
  },
  {
   "cell_type": "code",
   "execution_count": 4,
   "id": "explicit-peter",
   "metadata": {},
   "outputs": [],
   "source": [
    "df = pd.read_csv(r\"/Users/linke/Desktop/myspace/git/ransomware/production/normal_transfer.csv\", sep =',', nrows=166000)\n",
    "ndf = pd.read_csv(r\"/Users/linke/Desktop/myspace/git/ransomware/production/transfer.csv\", sep =',')"
   ]
  },
  {
   "cell_type": "code",
   "execution_count": 5,
   "id": "surprising-fantasy",
   "metadata": {},
   "outputs": [],
   "source": [
    "# 归一化处理\n",
    "ss = MinMaxScaler()\n",
    "# ss = StandardScaler()\n",
    "df[feature_name] = ss.fit_transform(df[feature_name])\n",
    "ndf[feature_name] = ss.fit_transform(ndf[feature_name])"
   ]
  },
  {
   "cell_type": "code",
   "execution_count": 6,
   "id": "perfect-somewhere",
   "metadata": {},
   "outputs": [],
   "source": [
    "df.insert(df.shape[1], 'target', 0)\n",
    "ndf.insert(ndf.shape[1], 'target', 1)"
   ]
  },
  {
   "cell_type": "code",
   "execution_count": 7,
   "id": "thermal-serbia",
   "metadata": {},
   "outputs": [
    {
     "data": {
      "text/html": [
       "<div>\n",
       "<style scoped>\n",
       "    .dataframe tbody tr th:only-of-type {\n",
       "        vertical-align: middle;\n",
       "    }\n",
       "\n",
       "    .dataframe tbody tr th {\n",
       "        vertical-align: top;\n",
       "    }\n",
       "\n",
       "    .dataframe thead th {\n",
       "        text-align: right;\n",
       "    }\n",
       "</style>\n",
       "<table border=\"1\" class=\"dataframe\">\n",
       "  <thead>\n",
       "    <tr style=\"text-align: right;\">\n",
       "      <th></th>\n",
       "      <th>trans_time</th>\n",
       "      <th>total_amount</th>\n",
       "      <th>nin</th>\n",
       "      <th>nout</th>\n",
       "      <th>vout_weights</th>\n",
       "      <th>target</th>\n",
       "    </tr>\n",
       "  </thead>\n",
       "  <tbody>\n",
       "    <tr>\n",
       "      <th>0</th>\n",
       "      <td>1474910112</td>\n",
       "      <td>0.043894</td>\n",
       "      <td>-0.038308</td>\n",
       "      <td>-0.024673</td>\n",
       "      <td>0.591329</td>\n",
       "      <td>0</td>\n",
       "    </tr>\n",
       "    <tr>\n",
       "      <th>1</th>\n",
       "      <td>1474910112</td>\n",
       "      <td>-0.160953</td>\n",
       "      <td>-0.124209</td>\n",
       "      <td>-0.086909</td>\n",
       "      <td>0.799304</td>\n",
       "      <td>0</td>\n",
       "    </tr>\n",
       "    <tr>\n",
       "      <th>2</th>\n",
       "      <td>1474910112</td>\n",
       "      <td>-0.039675</td>\n",
       "      <td>-0.124209</td>\n",
       "      <td>0.348742</td>\n",
       "      <td>-1.972817</td>\n",
       "      <td>0</td>\n",
       "    </tr>\n",
       "    <tr>\n",
       "      <th>3</th>\n",
       "      <td>1474910112</td>\n",
       "      <td>-0.022350</td>\n",
       "      <td>-0.124209</td>\n",
       "      <td>0.410978</td>\n",
       "      <td>0.725682</td>\n",
       "      <td>0</td>\n",
       "    </tr>\n",
       "    <tr>\n",
       "      <th>4</th>\n",
       "      <td>1474910112</td>\n",
       "      <td>0.044404</td>\n",
       "      <td>-0.038308</td>\n",
       "      <td>-0.024673</td>\n",
       "      <td>-0.312951</td>\n",
       "      <td>0</td>\n",
       "    </tr>\n",
       "    <tr>\n",
       "      <th>...</th>\n",
       "      <td>...</td>\n",
       "      <td>...</td>\n",
       "      <td>...</td>\n",
       "      <td>...</td>\n",
       "      <td>...</td>\n",
       "      <td>...</td>\n",
       "    </tr>\n",
       "    <tr>\n",
       "      <th>3215</th>\n",
       "      <td>1476785232</td>\n",
       "      <td>-1.497083</td>\n",
       "      <td>-1.496916</td>\n",
       "      <td>0.132252</td>\n",
       "      <td>0.227705</td>\n",
       "      <td>1</td>\n",
       "    </tr>\n",
       "    <tr>\n",
       "      <th>3216</th>\n",
       "      <td>1495814853</td>\n",
       "      <td>-1.509979</td>\n",
       "      <td>-1.496916</td>\n",
       "      <td>-6.521663</td>\n",
       "      <td>0.283850</td>\n",
       "      <td>1</td>\n",
       "    </tr>\n",
       "    <tr>\n",
       "      <th>3217</th>\n",
       "      <td>1497695850</td>\n",
       "      <td>-1.509979</td>\n",
       "      <td>-1.496916</td>\n",
       "      <td>-6.521663</td>\n",
       "      <td>0.283850</td>\n",
       "      <td>1</td>\n",
       "    </tr>\n",
       "    <tr>\n",
       "      <th>3218</th>\n",
       "      <td>1498624347</td>\n",
       "      <td>-1.509282</td>\n",
       "      <td>-1.496916</td>\n",
       "      <td>-6.521663</td>\n",
       "      <td>0.283850</td>\n",
       "      <td>1</td>\n",
       "    </tr>\n",
       "    <tr>\n",
       "      <th>3219</th>\n",
       "      <td>1477653186</td>\n",
       "      <td>-1.497083</td>\n",
       "      <td>-1.496916</td>\n",
       "      <td>0.132252</td>\n",
       "      <td>-0.508408</td>\n",
       "      <td>1</td>\n",
       "    </tr>\n",
       "  </tbody>\n",
       "</table>\n",
       "<p>169220 rows × 6 columns</p>\n",
       "</div>"
      ],
      "text/plain": [
       "      trans_time  total_amount       nin      nout  vout_weights  target\n",
       "0     1474910112      0.043894 -0.038308 -0.024673      0.591329       0\n",
       "1     1474910112     -0.160953 -0.124209 -0.086909      0.799304       0\n",
       "2     1474910112     -0.039675 -0.124209  0.348742     -1.972817       0\n",
       "3     1474910112     -0.022350 -0.124209  0.410978      0.725682       0\n",
       "4     1474910112      0.044404 -0.038308 -0.024673     -0.312951       0\n",
       "...          ...           ...       ...       ...           ...     ...\n",
       "3215  1476785232     -1.497083 -1.496916  0.132252      0.227705       1\n",
       "3216  1495814853     -1.509979 -1.496916 -6.521663      0.283850       1\n",
       "3217  1497695850     -1.509979 -1.496916 -6.521663      0.283850       1\n",
       "3218  1498624347     -1.509282 -1.496916 -6.521663      0.283850       1\n",
       "3219  1477653186     -1.497083 -1.496916  0.132252     -0.508408       1\n",
       "\n",
       "[169220 rows x 6 columns]"
      ]
     },
     "execution_count": 7,
     "metadata": {},
     "output_type": "execute_result"
    }
   ],
   "source": [
    "# 合并df\n",
    "frames = [df, ndf]\n",
    "mix_frame = pd.concat(frames)\n",
    "mix_frame"
   ]
  },
  {
   "cell_type": "code",
   "execution_count": 8,
   "id": "severe-shadow",
   "metadata": {},
   "outputs": [
    {
     "name": "stdout",
     "output_type": "stream",
     "text": [
      "169220\n"
     ]
    }
   ],
   "source": [
    "print(len(mix_frame))"
   ]
  },
  {
   "cell_type": "code",
   "execution_count": 9,
   "id": "scheduled-fashion",
   "metadata": {},
   "outputs": [],
   "source": [
    "X_train, X_test, Y_train, Y_test = train_test_split(mix_frame[feature_name], mix_frame[['target']], random_state=0)"
   ]
  },
  {
   "cell_type": "code",
   "execution_count": 10,
   "id": "opposite-outline",
   "metadata": {},
   "outputs": [
    {
     "data": {
      "text/html": [
       "<div>\n",
       "<style scoped>\n",
       "    .dataframe tbody tr th:only-of-type {\n",
       "        vertical-align: middle;\n",
       "    }\n",
       "\n",
       "    .dataframe tbody tr th {\n",
       "        vertical-align: top;\n",
       "    }\n",
       "\n",
       "    .dataframe thead th {\n",
       "        text-align: right;\n",
       "    }\n",
       "</style>\n",
       "<table border=\"1\" class=\"dataframe\">\n",
       "  <thead>\n",
       "    <tr style=\"text-align: right;\">\n",
       "      <th></th>\n",
       "      <th>total_amount</th>\n",
       "      <th>nin</th>\n",
       "      <th>nout</th>\n",
       "      <th>vout_weights</th>\n",
       "    </tr>\n",
       "  </thead>\n",
       "  <tbody>\n",
       "    <tr>\n",
       "      <th>90572</th>\n",
       "      <td>-0.067702</td>\n",
       "      <td>-0.038308</td>\n",
       "      <td>-0.024673</td>\n",
       "      <td>-0.234285</td>\n",
       "    </tr>\n",
       "    <tr>\n",
       "      <th>144932</th>\n",
       "      <td>-0.068211</td>\n",
       "      <td>-0.124209</td>\n",
       "      <td>-0.024673</td>\n",
       "      <td>0.787053</td>\n",
       "    </tr>\n",
       "    <tr>\n",
       "      <th>129481</th>\n",
       "      <td>-0.143628</td>\n",
       "      <td>-0.124209</td>\n",
       "      <td>-0.024673</td>\n",
       "      <td>0.783047</td>\n",
       "    </tr>\n",
       "    <tr>\n",
       "      <th>163587</th>\n",
       "      <td>-0.069740</td>\n",
       "      <td>-0.124209</td>\n",
       "      <td>-0.024673</td>\n",
       "      <td>0.283167</td>\n",
       "    </tr>\n",
       "    <tr>\n",
       "      <th>44276</th>\n",
       "      <td>-0.143628</td>\n",
       "      <td>-0.124209</td>\n",
       "      <td>-0.024673</td>\n",
       "      <td>0.757513</td>\n",
       "    </tr>\n",
       "    <tr>\n",
       "      <th>...</th>\n",
       "      <td>...</td>\n",
       "      <td>...</td>\n",
       "      <td>...</td>\n",
       "      <td>...</td>\n",
       "    </tr>\n",
       "    <tr>\n",
       "      <th>79242</th>\n",
       "      <td>0.064277</td>\n",
       "      <td>0.133494</td>\n",
       "      <td>-0.086909</td>\n",
       "      <td>0.799304</td>\n",
       "    </tr>\n",
       "    <tr>\n",
       "      <th>163679</th>\n",
       "      <td>-0.009611</td>\n",
       "      <td>0.047593</td>\n",
       "      <td>-0.086909</td>\n",
       "      <td>0.799304</td>\n",
       "    </tr>\n",
       "    <tr>\n",
       "      <th>15306</th>\n",
       "      <td>-0.160444</td>\n",
       "      <td>-0.124209</td>\n",
       "      <td>-0.086909</td>\n",
       "      <td>0.799304</td>\n",
       "    </tr>\n",
       "    <tr>\n",
       "      <th>125295</th>\n",
       "      <td>-0.087065</td>\n",
       "      <td>-0.124209</td>\n",
       "      <td>-0.024673</td>\n",
       "      <td>0.749048</td>\n",
       "    </tr>\n",
       "    <tr>\n",
       "      <th>134026</th>\n",
       "      <td>-0.143118</td>\n",
       "      <td>-0.124209</td>\n",
       "      <td>-0.024673</td>\n",
       "      <td>-1.463269</td>\n",
       "    </tr>\n",
       "  </tbody>\n",
       "</table>\n",
       "<p>42305 rows × 4 columns</p>\n",
       "</div>"
      ],
      "text/plain": [
       "        total_amount       nin      nout  vout_weights\n",
       "90572      -0.067702 -0.038308 -0.024673     -0.234285\n",
       "144932     -0.068211 -0.124209 -0.024673      0.787053\n",
       "129481     -0.143628 -0.124209 -0.024673      0.783047\n",
       "163587     -0.069740 -0.124209 -0.024673      0.283167\n",
       "44276      -0.143628 -0.124209 -0.024673      0.757513\n",
       "...              ...       ...       ...           ...\n",
       "79242       0.064277  0.133494 -0.086909      0.799304\n",
       "163679     -0.009611  0.047593 -0.086909      0.799304\n",
       "15306      -0.160444 -0.124209 -0.086909      0.799304\n",
       "125295     -0.087065 -0.124209 -0.024673      0.749048\n",
       "134026     -0.143118 -0.124209 -0.024673     -1.463269\n",
       "\n",
       "[42305 rows x 4 columns]"
      ]
     },
     "execution_count": 10,
     "metadata": {},
     "output_type": "execute_result"
    }
   ],
   "source": [
    "X_test"
   ]
  },
  {
   "cell_type": "code",
   "execution_count": 11,
   "id": "radical-trainer",
   "metadata": {},
   "outputs": [
    {
     "data": {
      "text/plain": [
       "1.0"
      ]
     },
     "execution_count": 11,
     "metadata": {},
     "output_type": "execute_result"
    }
   ],
   "source": [
    "# Step 1: Import the model you want to use\n",
    "# This was already imported earlier in the notebook so commenting out\n",
    "#from sklearn.tree import DecisionTreeClassifier\n",
    "\n",
    "# Step 2: Make an instance of the Model\n",
    "clf = DecisionTreeClassifier()\n",
    "\n",
    "# Step 3: Train the model on the data\n",
    "clf.fit(X_train, Y_train)\n",
    "\n",
    "# Step 4: Predict labels of unseen (test) data\n",
    "# Not doing this step in the tutorial\n",
    "# clf.predict(X_test)\n",
    "score=clf.score(X_test,Y_test)\n",
    "score"
   ]
  },
  {
   "cell_type": "code",
   "execution_count": 12,
   "id": "circular-bullet",
   "metadata": {},
   "outputs": [
    {
     "data": {
      "text/plain": [
       "[('total_amount', 0.0),\n",
       " ('nin', 0.426627883090251),\n",
       " ('nout', 0.573372116909749),\n",
       " ('vout_weights', 0.0)]"
      ]
     },
     "execution_count": 12,
     "metadata": {},
     "output_type": "execute_result"
    }
   ],
   "source": [
    "[*zip(feature_name, clf.feature_importances_)]"
   ]
  },
  {
   "cell_type": "code",
   "execution_count": null,
   "id": "consistent-wilson",
   "metadata": {},
   "outputs": [],
   "source": []
  }
 ],
 "metadata": {
  "kernelspec": {
   "display_name": "Python [conda env:.conda-py382] *",
   "language": "python",
   "name": "conda-env-.conda-py382-py"
  },
  "language_info": {
   "codemirror_mode": {
    "name": "ipython",
    "version": 3
   },
   "file_extension": ".py",
   "mimetype": "text/x-python",
   "name": "python",
   "nbconvert_exporter": "python",
   "pygments_lexer": "ipython3",
   "version": "3.8.8"
  }
 },
 "nbformat": 4,
 "nbformat_minor": 5
}
