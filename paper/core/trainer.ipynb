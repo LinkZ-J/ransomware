{
 "cells": [
  {
   "cell_type": "code",
   "execution_count": 1,
   "id": "harmful-tracy",
   "metadata": {},
   "outputs": [],
   "source": [
    "from sklearn.feature_extraction import DictVectorizer\n",
    "import csv\n",
    "from sklearn import tree\n",
    "from sklearn import preprocessing\n",
    "from six import StringIO\n",
    "import json\n",
    "import pandas as pd\n",
    "import os\n",
    "from prettytable import PrettyTable\n",
    "import graphviz\n",
    "import time"
   ]
  },
  {
   "cell_type": "code",
   "execution_count": 2,
   "id": "adjustable-charger",
   "metadata": {},
   "outputs": [],
   "source": [
    "import matplotlib.pyplot as plt\n",
    "from sklearn.datasets import load_iris\n",
    "from sklearn.datasets import load_breast_cancer\n",
    "from sklearn.tree import DecisionTreeClassifier\n",
    "from sklearn.ensemble import RandomForestClassifier\n",
    "from sklearn.model_selection import train_test_split\n",
    "from sklearn.preprocessing import StandardScaler\n",
    "from sklearn.preprocessing import MinMaxScaler"
   ]
  },
  {
   "cell_type": "code",
   "execution_count": 3,
   "id": "boring-share",
   "metadata": {},
   "outputs": [],
   "source": [
    "feature_name = ['total_amount', 'nin', 'nout', 'vout_weights']"
   ]
  },
  {
   "cell_type": "code",
   "execution_count": 4,
   "id": "explicit-peter",
   "metadata": {},
   "outputs": [],
   "source": [
    "df = pd.read_csv(r\"/Users/linke/Desktop/myspace/git/ransomware/ransomware/production/normal_transfer.csv\", sep =',', nrows=166000)\n",
    "ndf = pd.read_csv(r\"/Users/linke/Desktop/myspace/git/ransomware/ransomware/production/transfer.csv\", sep =',')"
   ]
  },
  {
   "cell_type": "code",
   "execution_count": 5,
   "id": "thermal-serbia",
   "metadata": {},
   "outputs": [],
   "source": [
    "# 归一化处理\n",
    "ss = MinMaxScaler()\n",
    "# ss = StandardScaler()\n",
    "df[feature_name] = ss.fit_transform(df[feature_name])\n",
    "ndf[feature_name] = ss.fit_transform(ndf[feature_name])"
   ]
  },
  {
   "cell_type": "code",
   "execution_count": 6,
   "id": "precious-pointer",
   "metadata": {},
   "outputs": [],
   "source": [
    "df.insert(df.shape[1], 'target', 0)\n",
    "ndf.insert(ndf.shape[1], 'target', 1)"
   ]
  },
  {
   "cell_type": "code",
   "execution_count": 7,
   "id": "prostate-lexington",
   "metadata": {},
   "outputs": [
    {
     "data": {
      "text/html": [
       "<div>\n",
       "<style scoped>\n",
       "    .dataframe tbody tr th:only-of-type {\n",
       "        vertical-align: middle;\n",
       "    }\n",
       "\n",
       "    .dataframe tbody tr th {\n",
       "        vertical-align: top;\n",
       "    }\n",
       "\n",
       "    .dataframe thead th {\n",
       "        text-align: right;\n",
       "    }\n",
       "</style>\n",
       "<table border=\"1\" class=\"dataframe\">\n",
       "  <thead>\n",
       "    <tr style=\"text-align: right;\">\n",
       "      <th></th>\n",
       "      <th>trans_time</th>\n",
       "      <th>total_amount</th>\n",
       "      <th>nin</th>\n",
       "      <th>nout</th>\n",
       "      <th>vout_weights</th>\n",
       "      <th>target</th>\n",
       "    </tr>\n",
       "  </thead>\n",
       "  <tbody>\n",
       "    <tr>\n",
       "      <th>0</th>\n",
       "      <td>1474910112</td>\n",
       "      <td>0.002849</td>\n",
       "      <td>0.001486</td>\n",
       "      <td>0.000203</td>\n",
       "      <td>0.966471</td>\n",
       "      <td>0</td>\n",
       "    </tr>\n",
       "    <tr>\n",
       "      <th>1</th>\n",
       "      <td>1474910112</td>\n",
       "      <td>0.000443</td>\n",
       "      <td>0.000000</td>\n",
       "      <td>0.000000</td>\n",
       "      <td>1.000000</td>\n",
       "      <td>0</td>\n",
       "    </tr>\n",
       "    <tr>\n",
       "      <th>2</th>\n",
       "      <td>1474910112</td>\n",
       "      <td>0.001867</td>\n",
       "      <td>0.000000</td>\n",
       "      <td>0.001424</td>\n",
       "      <td>0.553084</td>\n",
       "      <td>0</td>\n",
       "    </tr>\n",
       "    <tr>\n",
       "      <th>3</th>\n",
       "      <td>1474910112</td>\n",
       "      <td>0.002071</td>\n",
       "      <td>0.000000</td>\n",
       "      <td>0.001627</td>\n",
       "      <td>0.988131</td>\n",
       "      <td>0</td>\n",
       "    </tr>\n",
       "    <tr>\n",
       "      <th>4</th>\n",
       "      <td>1474910112</td>\n",
       "      <td>0.002855</td>\n",
       "      <td>0.001486</td>\n",
       "      <td>0.000203</td>\n",
       "      <td>0.820684</td>\n",
       "      <td>0</td>\n",
       "    </tr>\n",
       "    <tr>\n",
       "      <th>...</th>\n",
       "      <td>...</td>\n",
       "      <td>...</td>\n",
       "      <td>...</td>\n",
       "      <td>...</td>\n",
       "      <td>...</td>\n",
       "      <td>...</td>\n",
       "    </tr>\n",
       "    <tr>\n",
       "      <th>3215</th>\n",
       "      <td>1476785232</td>\n",
       "      <td>0.003125</td>\n",
       "      <td>0.000000</td>\n",
       "      <td>0.333333</td>\n",
       "      <td>0.992888</td>\n",
       "      <td>1</td>\n",
       "    </tr>\n",
       "    <tr>\n",
       "      <th>3216</th>\n",
       "      <td>1495814853</td>\n",
       "      <td>0.000000</td>\n",
       "      <td>0.000000</td>\n",
       "      <td>0.000000</td>\n",
       "      <td>1.000000</td>\n",
       "      <td>1</td>\n",
       "    </tr>\n",
       "    <tr>\n",
       "      <th>3217</th>\n",
       "      <td>1497695850</td>\n",
       "      <td>0.000000</td>\n",
       "      <td>0.000000</td>\n",
       "      <td>0.000000</td>\n",
       "      <td>1.000000</td>\n",
       "      <td>1</td>\n",
       "    </tr>\n",
       "    <tr>\n",
       "      <th>3218</th>\n",
       "      <td>1498624347</td>\n",
       "      <td>0.000169</td>\n",
       "      <td>0.000000</td>\n",
       "      <td>0.000000</td>\n",
       "      <td>1.000000</td>\n",
       "      <td>1</td>\n",
       "    </tr>\n",
       "    <tr>\n",
       "      <th>3219</th>\n",
       "      <td>1477653186</td>\n",
       "      <td>0.003125</td>\n",
       "      <td>0.000000</td>\n",
       "      <td>0.333333</td>\n",
       "      <td>0.899643</td>\n",
       "      <td>1</td>\n",
       "    </tr>\n",
       "  </tbody>\n",
       "</table>\n",
       "<p>169220 rows × 6 columns</p>\n",
       "</div>"
      ],
      "text/plain": [
       "      trans_time  total_amount       nin      nout  vout_weights  target\n",
       "0     1474910112      0.002849  0.001486  0.000203      0.966471       0\n",
       "1     1474910112      0.000443  0.000000  0.000000      1.000000       0\n",
       "2     1474910112      0.001867  0.000000  0.001424      0.553084       0\n",
       "3     1474910112      0.002071  0.000000  0.001627      0.988131       0\n",
       "4     1474910112      0.002855  0.001486  0.000203      0.820684       0\n",
       "...          ...           ...       ...       ...           ...     ...\n",
       "3215  1476785232      0.003125  0.000000  0.333333      0.992888       1\n",
       "3216  1495814853      0.000000  0.000000  0.000000      1.000000       1\n",
       "3217  1497695850      0.000000  0.000000  0.000000      1.000000       1\n",
       "3218  1498624347      0.000169  0.000000  0.000000      1.000000       1\n",
       "3219  1477653186      0.003125  0.000000  0.333333      0.899643       1\n",
       "\n",
       "[169220 rows x 6 columns]"
      ]
     },
     "execution_count": 7,
     "metadata": {},
     "output_type": "execute_result"
    }
   ],
   "source": [
    "# 合并df\n",
    "frames = [df, ndf]\n",
    "mix_frame = pd.concat(frames)\n",
    "mix_frame"
   ]
  },
  {
   "cell_type": "code",
   "execution_count": 8,
   "id": "severe-shadow",
   "metadata": {},
   "outputs": [
    {
     "name": "stdout",
     "output_type": "stream",
     "text": [
      "169220\n"
     ]
    }
   ],
   "source": [
    "print(len(mix_frame))"
   ]
  },
  {
   "cell_type": "code",
   "execution_count": 9,
   "id": "scheduled-fashion",
   "metadata": {},
   "outputs": [],
   "source": [
    "X_train, X_test, Y_train, Y_test = train_test_split(mix_frame[feature_name], mix_frame[['target']], random_state=0)"
   ]
  },
  {
   "cell_type": "code",
   "execution_count": 10,
   "id": "opposite-outline",
   "metadata": {},
   "outputs": [
    {
     "data": {
      "text/html": [
       "<div>\n",
       "<style scoped>\n",
       "    .dataframe tbody tr th:only-of-type {\n",
       "        vertical-align: middle;\n",
       "    }\n",
       "\n",
       "    .dataframe tbody tr th {\n",
       "        vertical-align: top;\n",
       "    }\n",
       "\n",
       "    .dataframe thead th {\n",
       "        text-align: right;\n",
       "    }\n",
       "</style>\n",
       "<table border=\"1\" class=\"dataframe\">\n",
       "  <thead>\n",
       "    <tr style=\"text-align: right;\">\n",
       "      <th></th>\n",
       "      <th>total_amount</th>\n",
       "      <th>nin</th>\n",
       "      <th>nout</th>\n",
       "      <th>vout_weights</th>\n",
       "    </tr>\n",
       "  </thead>\n",
       "  <tbody>\n",
       "    <tr>\n",
       "      <th>90572</th>\n",
       "      <td>0.001538</td>\n",
       "      <td>0.001486</td>\n",
       "      <td>0.000203</td>\n",
       "      <td>0.833367</td>\n",
       "    </tr>\n",
       "    <tr>\n",
       "      <th>144932</th>\n",
       "      <td>0.001532</td>\n",
       "      <td>0.000000</td>\n",
       "      <td>0.000203</td>\n",
       "      <td>0.998025</td>\n",
       "    </tr>\n",
       "    <tr>\n",
       "      <th>129481</th>\n",
       "      <td>0.000646</td>\n",
       "      <td>0.000000</td>\n",
       "      <td>0.000203</td>\n",
       "      <td>0.997379</td>\n",
       "    </tr>\n",
       "    <tr>\n",
       "      <th>163587</th>\n",
       "      <td>0.001514</td>\n",
       "      <td>0.000000</td>\n",
       "      <td>0.000203</td>\n",
       "      <td>0.916790</td>\n",
       "    </tr>\n",
       "    <tr>\n",
       "      <th>44276</th>\n",
       "      <td>0.000646</td>\n",
       "      <td>0.000000</td>\n",
       "      <td>0.000203</td>\n",
       "      <td>0.993263</td>\n",
       "    </tr>\n",
       "    <tr>\n",
       "      <th>...</th>\n",
       "      <td>...</td>\n",
       "      <td>...</td>\n",
       "      <td>...</td>\n",
       "      <td>...</td>\n",
       "    </tr>\n",
       "    <tr>\n",
       "      <th>79242</th>\n",
       "      <td>0.003088</td>\n",
       "      <td>0.004458</td>\n",
       "      <td>0.000000</td>\n",
       "      <td>1.000000</td>\n",
       "    </tr>\n",
       "    <tr>\n",
       "      <th>163679</th>\n",
       "      <td>0.002220</td>\n",
       "      <td>0.002972</td>\n",
       "      <td>0.000000</td>\n",
       "      <td>1.000000</td>\n",
       "    </tr>\n",
       "    <tr>\n",
       "      <th>15306</th>\n",
       "      <td>0.000449</td>\n",
       "      <td>0.000000</td>\n",
       "      <td>0.000000</td>\n",
       "      <td>1.000000</td>\n",
       "    </tr>\n",
       "    <tr>\n",
       "      <th>125295</th>\n",
       "      <td>0.001311</td>\n",
       "      <td>0.000000</td>\n",
       "      <td>0.000203</td>\n",
       "      <td>0.991898</td>\n",
       "    </tr>\n",
       "    <tr>\n",
       "      <th>134026</th>\n",
       "      <td>0.000652</td>\n",
       "      <td>0.000000</td>\n",
       "      <td>0.000203</td>\n",
       "      <td>0.635232</td>\n",
       "    </tr>\n",
       "  </tbody>\n",
       "</table>\n",
       "<p>42305 rows × 4 columns</p>\n",
       "</div>"
      ],
      "text/plain": [
       "        total_amount       nin      nout  vout_weights\n",
       "90572       0.001538  0.001486  0.000203      0.833367\n",
       "144932      0.001532  0.000000  0.000203      0.998025\n",
       "129481      0.000646  0.000000  0.000203      0.997379\n",
       "163587      0.001514  0.000000  0.000203      0.916790\n",
       "44276       0.000646  0.000000  0.000203      0.993263\n",
       "...              ...       ...       ...           ...\n",
       "79242       0.003088  0.004458  0.000000      1.000000\n",
       "163679      0.002220  0.002972  0.000000      1.000000\n",
       "15306       0.000449  0.000000  0.000000      1.000000\n",
       "125295      0.001311  0.000000  0.000203      0.991898\n",
       "134026      0.000652  0.000000  0.000203      0.635232\n",
       "\n",
       "[42305 rows x 4 columns]"
      ]
     },
     "execution_count": 10,
     "metadata": {},
     "output_type": "execute_result"
    }
   ],
   "source": [
    "X_test"
   ]
  },
  {
   "cell_type": "code",
   "execution_count": 11,
   "id": "radical-trainer",
   "metadata": {},
   "outputs": [
    {
     "data": {
      "text/plain": [
       "0.9998345349249498"
      ]
     },
     "execution_count": 11,
     "metadata": {},
     "output_type": "execute_result"
    }
   ],
   "source": [
    "# Step 1: Import the model you want to use\n",
    "# This was already imported earlier in the notebook so commenting out\n",
    "#from sklearn.tree import DecisionTreeClassifier\n",
    "\n",
    "# Step 2: Make an instance of the Model\n",
    "clf = DecisionTreeClassifier()\n",
    "\n",
    "# Step 3: Train the model on the data\n",
    "clf.fit(X_train, Y_train)\n",
    "\n",
    "# Step 4: Predict labels of unseen (test) data\n",
    "# Not doing this step in the tutorial\n",
    "# clf.predict(X_test)\n",
    "score=clf.score(X_test,Y_test)\n",
    "score"
   ]
  },
  {
   "cell_type": "code",
   "execution_count": 12,
   "id": "circular-bullet",
   "metadata": {},
   "outputs": [
    {
     "data": {
      "text/plain": [
       "[('total_amount', 0.013057787763448013),\n",
       " ('nin', 0.0035350962951468767),\n",
       " ('nout', 0.9812816123503201),\n",
       " ('vout_weights', 0.0021255035910850402)]"
      ]
     },
     "execution_count": 12,
     "metadata": {},
     "output_type": "execute_result"
    }
   ],
   "source": [
    "[*zip(feature_name, clf.feature_importances_)]"
   ]
  },
  {
   "cell_type": "code",
   "execution_count": null,
   "id": "consistent-wilson",
   "metadata": {},
   "outputs": [],
   "source": []
  }
 ],
 "metadata": {
  "kernelspec": {
   "display_name": "Python [conda env:py382] *",
   "language": "python",
   "name": "conda-env-py382-py"
  },
  "language_info": {
   "codemirror_mode": {
    "name": "ipython",
    "version": 3
   },
   "file_extension": ".py",
   "mimetype": "text/x-python",
   "name": "python",
   "nbconvert_exporter": "python",
   "pygments_lexer": "ipython3",
   "version": "3.8.2"
  }
 },
 "nbformat": 4,
 "nbformat_minor": 5
}
