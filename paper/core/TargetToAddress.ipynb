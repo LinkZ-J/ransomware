{
 "cells": [
  {
   "cell_type": "code",
   "execution_count": 1,
   "id": "nonprofit-bhutan",
   "metadata": {},
   "outputs": [],
   "source": [
    "from sklearn.feature_extraction import DictVectorizer\n",
    "import csv\n",
    "from sklearn import tree\n",
    "from sklearn import preprocessing\n",
    "from six import StringIO\n",
    "import json\n",
    "import pandas as pd\n",
    "import os\n",
    "from prettytable import PrettyTable\n",
    "import time\n",
    "import datetime"
   ]
  },
  {
   "cell_type": "code",
   "execution_count": 2,
   "id": "regional-grove",
   "metadata": {},
   "outputs": [],
   "source": [
    "path = r\"/Users/linke/Desktop/myspace/git/ransomware/ransomware/ransomwareTxs\"\n",
    "table = []"
   ]
  },
  {
   "cell_type": "code",
   "execution_count": 4,
   "id": "aggregate-liberal",
   "metadata": {},
   "outputs": [],
   "source": [
    "def readFile(rootName, fileName):\n",
    "    addrName = getAddrName(fileName)\n",
    "    f = open(os.path.join(rootName, fileName))\n",
    "    trans_list = []\n",
    "    \n",
    "    line = f.readline()\n",
    "    while line:\n",
    "        transaction_json = json.loads(line)\n",
    "        trans_list.append(transaction_json)\n",
    "        line = f.readline()\n",
    "    f.close()\n",
    "    \n",
    "    result = handleTransJson(addrName, transaction_json)\n",
    "    messages.append(result)"
   ]
  },
  {
   "cell_type": "code",
   "execution_count": 3,
   "id": "earlier-belief",
   "metadata": {},
   "outputs": [],
   "source": [
    "def dateRelated(trasactions, address):\n",
    "    active_days = []\n",
    "    for trans in trasactions:\n",
    "        temp = time.strftime(\"%Y-%m-%d\", time.localtime(row['trans_time']))\n",
    "        if temp not in active_days:\n",
    "            active_days.append(temp)\n",
    "    active_days.sort()\n",
    "    return [len(active_days), Caltime(0, len(active_days)-1)]"
   ]
  },
  {
   "cell_type": "code",
   "execution_count": null,
   "id": "precious-wednesday",
   "metadata": {},
   "outputs": [],
   "source": [
    "def handleTransJson(addr, trans_json):\n",
    "    temp_table_item = []\n",
    "    temp_table_item.extend(dateRelated)\n",
    "    "
   ]
  },
  {
   "cell_type": "code",
   "execution_count": null,
   "id": "otherwise-electricity",
   "metadata": {},
   "outputs": [],
   "source": [
    "for root,dirs,files in os.walk(path):\n",
    "    for dir in dirs:\n",
    "        for r,ds,fs in os.walk(dir):\n",
    "            for f in fs:\n",
    "                readFile(r, f)\n",
    "    for file in files:\n",
    "        readFile(root, file)"
   ]
  }
 ],
 "metadata": {
  "kernelspec": {
   "display_name": "Python [conda env:py382] *",
   "language": "python",
   "name": "conda-env-py382-py"
  },
  "language_info": {
   "codemirror_mode": {
    "name": "ipython",
    "version": 3
   },
   "file_extension": ".py",
   "mimetype": "text/x-python",
   "name": "python",
   "nbconvert_exporter": "python",
   "pygments_lexer": "ipython3",
   "version": "3.8.2"
  }
 },
 "nbformat": 4,
 "nbformat_minor": 5
}
