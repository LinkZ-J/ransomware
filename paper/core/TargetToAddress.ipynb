{
 "cells": [
  {
   "cell_type": "code",
   "execution_count": 1,
   "id": "nonprofit-bhutan",
   "metadata": {},
   "outputs": [],
   "source": [
    "from sklearn.feature_extraction import DictVectorizer\n",
    "import csv\n",
    "from sklearn import tree\n",
    "from sklearn import preprocessing\n",
    "from six import StringIO\n",
    "import json\n",
    "import pandas as pd\n",
    "import os\n",
    "from prettytable import PrettyTable"
   ]
  },
  {
   "cell_type": "code",
   "execution_count": null,
   "id": "regional-grove",
   "metadata": {},
   "outputs": [],
   "source": [
    "path = r\"/Users/linke/Desktop/myspace/git/ransomware/ransomware/ransomwareTxs\"\n",
    "messages = []"
   ]
  },
  {
   "cell_type": "code",
   "execution_count": null,
   "id": "aggregate-liberal",
   "metadata": {},
   "outputs": [],
   "source": [
    "def readFile(rootName, fileName):\n",
    "    addrName = getAddrName(fileName)\n",
    "    f = open(os.path.join(rootName, fileName))\n",
    "    \n",
    "    line = f.readline()\n",
    "    while line:\n",
    "        transaction_json = json.loads(line)\n",
    "        result = handleTransJson(addrName, transaction_json)\n",
    "        messages.append(result)\n",
    "        line = f.readline()\n",
    "\n",
    "    f.close()"
   ]
  },
  {
   "cell_type": "code",
   "execution_count": null,
   "id": "otherwise-electricity",
   "metadata": {},
   "outputs": [],
   "source": [
    "for root,dirs,files in os.walk(path):\n",
    "    for dir in dirs:\n",
    "        for r,ds,fs in os.walk(dir):\n",
    "            for f in fs:\n",
    "                readFile(r, f)\n",
    "    for file in files:\n",
    "        readFile(root, file)"
   ]
  }
 ],
 "metadata": {
  "kernelspec": {
   "display_name": "Python [conda env:py382] *",
   "language": "python",
   "name": "conda-env-py382-py"
  },
  "language_info": {
   "codemirror_mode": {
    "name": "ipython",
    "version": 3
   },
   "file_extension": ".py",
   "mimetype": "text/x-python",
   "name": "python",
   "nbconvert_exporter": "python",
   "pygments_lexer": "ipython3",
   "version": "3.8.2"
  }
 },
 "nbformat": 4,
 "nbformat_minor": 5
}
