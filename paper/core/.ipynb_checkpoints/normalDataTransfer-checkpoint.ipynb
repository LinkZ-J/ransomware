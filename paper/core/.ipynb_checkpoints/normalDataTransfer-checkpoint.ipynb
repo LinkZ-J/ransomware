{
 "cells": [
  {
   "cell_type": "code",
   "execution_count": 1,
   "id": "acute-johnston",
   "metadata": {},
   "outputs": [],
   "source": [
    "from sklearn.feature_extraction import DictVectorizer\n",
    "import csv\n",
    "from sklearn import tree\n",
    "from sklearn import preprocessing\n",
    "from six import StringIO\n",
    "import json\n",
    "import pandas as pd\n",
    "import os\n",
    "from prettytable import PrettyTable"
   ]
  },
  {
   "cell_type": "code",
   "execution_count": 2,
   "id": "ranking-lemon",
   "metadata": {},
   "outputs": [],
   "source": [
    "path = r\"/Users/linke/Desktop/myspace/git/2016/\"\n",
    "production_path = r\"/Users/linke/Desktop/myspace/git/ransomware/production/normal_transfer.csv\"\n",
    "# production_path = r\"R:\\paper\\transfer.csv\""
   ]
  },
  {
   "cell_type": "code",
   "execution_count": 3,
   "id": "coordinated-scratch",
   "metadata": {},
   "outputs": [],
   "source": [
    "messages = []"
   ]
  },
  {
   "cell_type": "code",
   "execution_count": 4,
   "id": "derived-henry",
   "metadata": {},
   "outputs": [],
   "source": [
    "def readFile(rootName, fileName):\n",
    "    try:\n",
    "        f = open(os.path.join(rootName, fileName))\n",
    "\n",
    "        line = f.readline()\n",
    "        while line:\n",
    "            transaction_json = json.loads(line)\n",
    "            result = handleTransJson(transaction_json)\n",
    "            messages.append(result)\n",
    "            line = f.readline()\n",
    "\n",
    "        f.close()\n",
    "    except Exception as ex:\n",
    "        print(rootName + fileName)"
   ]
  },
  {
   "cell_type": "code",
   "execution_count": 5,
   "id": "steady-verification",
   "metadata": {},
   "outputs": [],
   "source": [
    "def calculateVoutWeights(vouts):\n",
    "    sum_vout = 0\n",
    "    max_vout = 0\n",
    "    for vout_item in vouts:\n",
    "        sum_vout += vout_item['value']\n",
    "        if vout_item['value'] > max_vout:\n",
    "            max_vout = vout_item['value']\n",
    "    if sum_vout == 0:\n",
    "        return 1\n",
    "    return max_vout/sum_vout"
   ]
  },
  {
   "cell_type": "code",
   "execution_count": 6,
   "id": "equal-honey",
   "metadata": {},
   "outputs": [],
   "source": [
    "def handleTransJson(trans_json):\n",
    "    normal_msg = []\n",
    "  \n",
    "    normal_msg.append(trans_json['timestamp'])\n",
    "    normal_msg.append(trans_json['size'])\n",
    "\n",
    "    normal_msg.append(trans_json['n_in'])\n",
    "    normal_msg.append(trans_json['n_out'])\n",
    "\n",
    "    normal_msg.append(calculateVoutWeights(trans_json['vout']))\n",
    "    return normal_msg\n",
    "            "
   ]
  },
  {
   "cell_type": "code",
   "execution_count": 7,
   "id": "composed-bridal",
   "metadata": {},
   "outputs": [
    {
     "name": "stdout",
     "output_type": "stream",
     "text": [
      "/Users/linke/Desktop/myspace/git/ransomware/2016/.DS_Store\n",
      "/Users/linke/Desktop/myspace/git/ransomware/2016/2016-06-28.DS_Store\n"
     ]
    }
   ],
   "source": [
    "try:\n",
    "    for root,dirs,files in os.walk(path):\n",
    "        for dir in dirs:\n",
    "            for r,ds,fs in os.walk(dir):\n",
    "                for f in fs:\n",
    "                    readFile(r, f)\n",
    "        for file in files:\n",
    "            readFile(root, file)\n",
    "except Exception as ex:\n",
    "    print(ex)"
   ]
  },
  {
   "cell_type": "code",
   "execution_count": 8,
   "id": "impressive-wayne",
   "metadata": {},
   "outputs": [
    {
     "name": "stdout",
     "output_type": "stream",
     "text": [
      "['1474910112', 593, 2, 2, 0.9667755814944194]\n"
     ]
    }
   ],
   "source": [
    "print(messages[0])"
   ]
  },
  {
   "cell_type": "code",
   "execution_count": 9,
   "id": "coral-capability",
   "metadata": {},
   "outputs": [],
   "source": [
    "data = pd.DataFrame(messages)\n",
    "# data.columns = ['tran_id','trans_time','total_amount', 'nin', 'nout', 'vout_weights']\n",
    "data.columns = ['trans_time','total_amount', 'nin', 'nout', 'vout_weights']\n",
    "data.to_csv(production_path, index = False)"
   ]
  }
 ],
 "metadata": {
  "kernelspec": {
   "display_name": "Python [conda env:py382] *",
   "language": "python",
   "name": "conda-env-py382-py"
  },
  "language_info": {
   "codemirror_mode": {
    "name": "ipython",
    "version": 3
   },
   "file_extension": ".py",
   "mimetype": "text/x-python",
   "name": "python",
   "nbconvert_exporter": "python",
   "pygments_lexer": "ipython3",
   "version": "3.8.2"
  }
 },
 "nbformat": 4,
 "nbformat_minor": 5
}
