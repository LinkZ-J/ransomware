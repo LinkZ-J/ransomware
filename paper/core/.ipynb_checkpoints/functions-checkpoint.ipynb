{
 "cells": [
  {
   "cell_type": "code",
   "execution_count": 21,
   "id": "dress-joyce",
   "metadata": {},
   "outputs": [],
   "source": [
    "from datetime import datetime\n",
    "import time\n",
    "import pandas as pd"
   ]
  },
  {
   "cell_type": "code",
   "execution_count": 2,
   "id": "abstract-laser",
   "metadata": {},
   "outputs": [],
   "source": [
    "def diff_day(t1, t2):\n",
    "    dt1 = datetime.utcfromtimestamp(t1)\n",
    "    dt2 = datetime.utcfromtimestamp(t2)\n",
    "    return (dt2 - dt1).days"
   ]
  },
  {
   "cell_type": "code",
   "execution_count": 3,
   "id": "bearing-assets",
   "metadata": {},
   "outputs": [],
   "source": [
    "# [最晚输入与最早输出天数之差, 生命周期, 活动天数, 每日最大交易次数, 传入时间的区间长度, 传出时间的区间长度]"
   ]
  },
  {
   "cell_type": "code",
   "execution_count": 55,
   "id": "incorporated-perry",
   "metadata": {},
   "outputs": [
    {
     "data": {
      "text/plain": [
       "[-31, 11577, 6, 2, 12, 11577]"
      ]
     },
     "execution_count": 55,
     "metadata": {},
     "output_type": "execute_result"
    }
   ],
   "source": [
    "def analysize_timestamps(ts0, ts1, ts2):\n",
    "    result = []\n",
    "    result.append(diff_day(max(ts1), min(ts2)))\n",
    "\n",
    "    _all = ts1 + ts2\n",
    "    _all.sort()\n",
    "    result.append(diff_day(_all[0], _all[-1]))\n",
    "\n",
    "    day = lambda ts : datetime.utcfromtimestamp(ts).date()\n",
    "    days = [day(ts) for ts in _all]\n",
    "    day_num = pd.value_counts(days)\n",
    "    for ts in ts0:\n",
    "        day_num[day(ts)] -= 1\n",
    "    result.append(len(day_num))\n",
    "    result.append(day_num.max())\n",
    "\n",
    "    result.append(diff_day(min(ts1), max(ts1)))\n",
    "    result.append(diff_day(min(ts2), max(ts2)))\n",
    "\n",
    "    return result"
   ]
  }
 ],
 "metadata": {
  "kernelspec": {
   "display_name": "Python [conda env:py382] *",
   "language": "python",
   "name": "conda-env-py382-py"
  },
  "language_info": {
   "codemirror_mode": {
    "name": "ipython",
    "version": 3
   },
   "file_extension": ".py",
   "mimetype": "text/x-python",
   "name": "python",
   "nbconvert_exporter": "python",
   "pygments_lexer": "ipython3",
   "version": "3.8.2"
  }
 },
 "nbformat": 4,
 "nbformat_minor": 5
}
