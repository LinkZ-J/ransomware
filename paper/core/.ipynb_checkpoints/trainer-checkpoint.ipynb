{
 "cells": [
  {
   "cell_type": "code",
   "execution_count": 1,
   "id": "harmful-tracy",
   "metadata": {},
   "outputs": [],
   "source": [
    "from sklearn.feature_extraction import DictVectorizer\n",
    "import csv\n",
    "from sklearn import tree\n",
    "from sklearn import preprocessing\n",
    "from six import StringIO\n",
    "import json\n",
    "import pandas as pd\n",
    "import numpy as np\n",
    "import os\n",
    "from prettytable import PrettyTable\n",
    "import graphviz\n",
    "import time"
   ]
  },
  {
   "cell_type": "code",
   "execution_count": 2,
   "id": "adjustable-charger",
   "metadata": {},
   "outputs": [],
   "source": [
    "import matplotlib.pyplot as plt\n",
    "from sklearn.datasets import load_iris\n",
    "from sklearn.datasets import load_breast_cancer\n",
    "from sklearn.tree import DecisionTreeClassifier\n",
    "from sklearn.ensemble import RandomForestClassifier\n",
    "from sklearn.model_selection import train_test_split"
   ]
  },
  {
   "cell_type": "code",
   "execution_count": 3,
   "id": "boring-share",
   "metadata": {},
   "outputs": [],
   "source": [
    "feature_name = ['trans_time','total_amount', 'nin', 'nout', 'vout_weights']"
   ]
  },
  {
   "cell_type": "code",
   "execution_count": 14,
   "id": "explicit-peter",
   "metadata": {},
   "outputs": [],
   "source": [
    "df = pd.read_csv(r\"/Users/linke/Desktop/myspace/git/ransomware/production/normal_transfer.csv\", sep =',', nrows=166000)\n",
    "ndf = pd.read_csv(r\"/Users/linke/Desktop/myspace/git/ransomware/production/transfer.csv\", sep =',')"
   ]
  },
  {
   "cell_type": "code",
   "execution_count": 15,
   "id": "surprising-fantasy",
   "metadata": {},
   "outputs": [
    {
     "data": {
      "text/html": [
       "<div>\n",
       "<style scoped>\n",
       "    .dataframe tbody tr th:only-of-type {\n",
       "        vertical-align: middle;\n",
       "    }\n",
       "\n",
       "    .dataframe tbody tr th {\n",
       "        vertical-align: top;\n",
       "    }\n",
       "\n",
       "    .dataframe thead th {\n",
       "        text-align: right;\n",
       "    }\n",
       "</style>\n",
       "<table border=\"1\" class=\"dataframe\">\n",
       "  <thead>\n",
       "    <tr style=\"text-align: right;\">\n",
       "      <th></th>\n",
       "      <th>trans_time</th>\n",
       "      <th>total_amount</th>\n",
       "      <th>nin</th>\n",
       "      <th>nout</th>\n",
       "      <th>vout_weights</th>\n",
       "    </tr>\n",
       "  </thead>\n",
       "  <tbody>\n",
       "    <tr>\n",
       "      <th>0</th>\n",
       "      <td>0.317839</td>\n",
       "      <td>0.015624</td>\n",
       "      <td>0.0125</td>\n",
       "      <td>0.333333</td>\n",
       "      <td>0.638581</td>\n",
       "    </tr>\n",
       "    <tr>\n",
       "      <th>1</th>\n",
       "      <td>0.318639</td>\n",
       "      <td>0.025167</td>\n",
       "      <td>0.0250</td>\n",
       "      <td>0.000000</td>\n",
       "      <td>1.000000</td>\n",
       "    </tr>\n",
       "    <tr>\n",
       "      <th>2</th>\n",
       "      <td>0.330478</td>\n",
       "      <td>0.000253</td>\n",
       "      <td>0.0000</td>\n",
       "      <td>0.000000</td>\n",
       "      <td>1.000000</td>\n",
       "    </tr>\n",
       "    <tr>\n",
       "      <th>3</th>\n",
       "      <td>0.354853</td>\n",
       "      <td>0.012668</td>\n",
       "      <td>0.0125</td>\n",
       "      <td>0.000000</td>\n",
       "      <td>1.000000</td>\n",
       "    </tr>\n",
       "    <tr>\n",
       "      <th>4</th>\n",
       "      <td>0.000795</td>\n",
       "      <td>0.003040</td>\n",
       "      <td>0.0000</td>\n",
       "      <td>0.333333</td>\n",
       "      <td>0.822754</td>\n",
       "    </tr>\n",
       "    <tr>\n",
       "      <th>...</th>\n",
       "      <td>...</td>\n",
       "      <td>...</td>\n",
       "      <td>...</td>\n",
       "      <td>...</td>\n",
       "      <td>...</td>\n",
       "    </tr>\n",
       "    <tr>\n",
       "      <th>3215</th>\n",
       "      <td>0.199696</td>\n",
       "      <td>0.003125</td>\n",
       "      <td>0.0000</td>\n",
       "      <td>0.333333</td>\n",
       "      <td>0.992888</td>\n",
       "    </tr>\n",
       "    <tr>\n",
       "      <th>3216</th>\n",
       "      <td>0.424781</td>\n",
       "      <td>0.000000</td>\n",
       "      <td>0.0000</td>\n",
       "      <td>0.000000</td>\n",
       "      <td>1.000000</td>\n",
       "    </tr>\n",
       "    <tr>\n",
       "      <th>3217</th>\n",
       "      <td>0.447029</td>\n",
       "      <td>0.000000</td>\n",
       "      <td>0.0000</td>\n",
       "      <td>0.000000</td>\n",
       "      <td>1.000000</td>\n",
       "    </tr>\n",
       "    <tr>\n",
       "      <th>3218</th>\n",
       "      <td>0.458012</td>\n",
       "      <td>0.000169</td>\n",
       "      <td>0.0000</td>\n",
       "      <td>0.000000</td>\n",
       "      <td>1.000000</td>\n",
       "    </tr>\n",
       "    <tr>\n",
       "      <th>3219</th>\n",
       "      <td>0.209962</td>\n",
       "      <td>0.003125</td>\n",
       "      <td>0.0000</td>\n",
       "      <td>0.333333</td>\n",
       "      <td>0.899643</td>\n",
       "    </tr>\n",
       "  </tbody>\n",
       "</table>\n",
       "<p>3220 rows × 5 columns</p>\n",
       "</div>"
      ],
      "text/plain": [
       "      trans_time  total_amount     nin      nout  vout_weights\n",
       "0       0.317839      0.015624  0.0125  0.333333      0.638581\n",
       "1       0.318639      0.025167  0.0250  0.000000      1.000000\n",
       "2       0.330478      0.000253  0.0000  0.000000      1.000000\n",
       "3       0.354853      0.012668  0.0125  0.000000      1.000000\n",
       "4       0.000795      0.003040  0.0000  0.333333      0.822754\n",
       "...          ...           ...     ...       ...           ...\n",
       "3215    0.199696      0.003125  0.0000  0.333333      0.992888\n",
       "3216    0.424781      0.000000  0.0000  0.000000      1.000000\n",
       "3217    0.447029      0.000000  0.0000  0.000000      1.000000\n",
       "3218    0.458012      0.000169  0.0000  0.000000      1.000000\n",
       "3219    0.209962      0.003125  0.0000  0.333333      0.899643\n",
       "\n",
       "[3220 rows x 5 columns]"
      ]
     },
     "execution_count": 15,
     "metadata": {},
     "output_type": "execute_result"
    }
   ],
   "source": [
    "# df = (df - df.min()) / (df.max() - df.min())\n",
    "# ndf = (ndf - ndf.min()) / (ndf.max() - ndf.min())\n",
    "\n",
    "df.apply(lambda x: (x - np.min(x)) / (np.max(x) - np.min(x)))\n",
    "ndf.apply(lambda x: (x - np.min(x)) / (np.max(x) - np.min(x)))"
   ]
  },
  {
   "cell_type": "code",
   "execution_count": 16,
   "id": "perfect-somewhere",
   "metadata": {},
   "outputs": [],
   "source": [
    "df.insert(df.shape[1], 'target', 0)\n",
    "ndf.insert(ndf.shape[1], 'target', 1)"
   ]
  },
  {
   "cell_type": "code",
   "execution_count": 17,
   "id": "thermal-serbia",
   "metadata": {},
   "outputs": [],
   "source": [
    "# 合并df\n",
    "frames = [df, ndf]\n",
    "mix_frame = pd.concat(frames)\n",
    "mix_frame"
   ]
  },
  {
   "cell_type": "code",
   "execution_count": 18,
   "id": "severe-shadow",
   "metadata": {},
   "outputs": [
    {
     "name": "stdout",
     "output_type": "stream",
     "text": [
      "169220\n"
     ]
    }
   ],
   "source": [
    "print(len(mix_frame))"
   ]
  },
  {
   "cell_type": "code",
   "execution_count": 19,
   "id": "scheduled-fashion",
   "metadata": {},
   "outputs": [],
   "source": [
    "X_train, X_test, Y_train, Y_test = train_test_split(mix_frame[['trans_time','total_amount', 'nin', 'nout', 'vout_weights']], mix_frame[['target']], random_state=0)"
   ]
  },
  {
   "cell_type": "code",
   "execution_count": 20,
   "id": "opposite-outline",
   "metadata": {},
   "outputs": [
    {
     "data": {
      "text/html": [
       "<div>\n",
       "<style scoped>\n",
       "    .dataframe tbody tr th:only-of-type {\n",
       "        vertical-align: middle;\n",
       "    }\n",
       "\n",
       "    .dataframe tbody tr th {\n",
       "        vertical-align: top;\n",
       "    }\n",
       "\n",
       "    .dataframe thead th {\n",
       "        text-align: right;\n",
       "    }\n",
       "</style>\n",
       "<table border=\"1\" class=\"dataframe\">\n",
       "  <thead>\n",
       "    <tr style=\"text-align: right;\">\n",
       "      <th></th>\n",
       "      <th>trans_time</th>\n",
       "      <th>total_amount</th>\n",
       "      <th>nin</th>\n",
       "      <th>nout</th>\n",
       "      <th>vout_weights</th>\n",
       "    </tr>\n",
       "  </thead>\n",
       "  <tbody>\n",
       "    <tr>\n",
       "      <th>90572</th>\n",
       "      <td>1474978592</td>\n",
       "      <td>374</td>\n",
       "      <td>2</td>\n",
       "      <td>2</td>\n",
       "      <td>0.834882</td>\n",
       "    </tr>\n",
       "    <tr>\n",
       "      <th>144932</th>\n",
       "      <td>1474950215</td>\n",
       "      <td>373</td>\n",
       "      <td>1</td>\n",
       "      <td>2</td>\n",
       "      <td>0.998043</td>\n",
       "    </tr>\n",
       "    <tr>\n",
       "      <th>129481</th>\n",
       "      <td>1474906713</td>\n",
       "      <td>225</td>\n",
       "      <td>1</td>\n",
       "      <td>2</td>\n",
       "      <td>0.997403</td>\n",
       "    </tr>\n",
       "    <tr>\n",
       "      <th>163587</th>\n",
       "      <td>1474990248</td>\n",
       "      <td>370</td>\n",
       "      <td>1</td>\n",
       "      <td>2</td>\n",
       "      <td>0.917546</td>\n",
       "    </tr>\n",
       "    <tr>\n",
       "      <th>44276</th>\n",
       "      <td>1474920311</td>\n",
       "      <td>225</td>\n",
       "      <td>1</td>\n",
       "      <td>2</td>\n",
       "      <td>0.993324</td>\n",
       "    </tr>\n",
       "    <tr>\n",
       "      <th>...</th>\n",
       "      <td>...</td>\n",
       "      <td>...</td>\n",
       "      <td>...</td>\n",
       "      <td>...</td>\n",
       "      <td>...</td>\n",
       "    </tr>\n",
       "    <tr>\n",
       "      <th>79242</th>\n",
       "      <td>1474916356</td>\n",
       "      <td>633</td>\n",
       "      <td>4</td>\n",
       "      <td>1</td>\n",
       "      <td>1.000000</td>\n",
       "    </tr>\n",
       "    <tr>\n",
       "      <th>163679</th>\n",
       "      <td>1474990248</td>\n",
       "      <td>488</td>\n",
       "      <td>3</td>\n",
       "      <td>1</td>\n",
       "      <td>1.000000</td>\n",
       "    </tr>\n",
       "    <tr>\n",
       "      <th>15306</th>\n",
       "      <td>1474984948</td>\n",
       "      <td>192</td>\n",
       "      <td>1</td>\n",
       "      <td>1</td>\n",
       "      <td>1.000000</td>\n",
       "    </tr>\n",
       "    <tr>\n",
       "      <th>125295</th>\n",
       "      <td>1474926013</td>\n",
       "      <td>336</td>\n",
       "      <td>1</td>\n",
       "      <td>2</td>\n",
       "      <td>0.991972</td>\n",
       "    </tr>\n",
       "    <tr>\n",
       "      <th>134026</th>\n",
       "      <td>1474915198</td>\n",
       "      <td>226</td>\n",
       "      <td>1</td>\n",
       "      <td>2</td>\n",
       "      <td>0.638548</td>\n",
       "    </tr>\n",
       "  </tbody>\n",
       "</table>\n",
       "<p>42305 rows × 5 columns</p>\n",
       "</div>"
      ],
      "text/plain": [
       "        trans_time  total_amount  nin  nout  vout_weights\n",
       "90572   1474978592           374    2     2      0.834882\n",
       "144932  1474950215           373    1     2      0.998043\n",
       "129481  1474906713           225    1     2      0.997403\n",
       "163587  1474990248           370    1     2      0.917546\n",
       "44276   1474920311           225    1     2      0.993324\n",
       "...            ...           ...  ...   ...           ...\n",
       "79242   1474916356           633    4     1      1.000000\n",
       "163679  1474990248           488    3     1      1.000000\n",
       "15306   1474984948           192    1     1      1.000000\n",
       "125295  1474926013           336    1     2      0.991972\n",
       "134026  1474915198           226    1     2      0.638548\n",
       "\n",
       "[42305 rows x 5 columns]"
      ]
     },
     "execution_count": 20,
     "metadata": {},
     "output_type": "execute_result"
    }
   ],
   "source": [
    "X_test"
   ]
  },
  {
   "cell_type": "code",
   "execution_count": 11,
   "id": "radical-trainer",
   "metadata": {},
   "outputs": [
    {
     "data": {
      "text/plain": [
       "0.9999527242642714"
      ]
     },
     "execution_count": 11,
     "metadata": {},
     "output_type": "execute_result"
    }
   ],
   "source": [
    "# Step 1: Import the model you want to use\n",
    "# This was already imported earlier in the notebook so commenting out\n",
    "#from sklearn.tree import DecisionTreeClassifier\n",
    "\n",
    "# Step 2: Make an instance of the Model\n",
    "clf = DecisionTreeClassifier()\n",
    "\n",
    "# Step 3: Train the model on the data\n",
    "clf.fit(X_train, Y_train)\n",
    "\n",
    "# Step 4: Predict labels of unseen (test) data\n",
    "# Not doing this step in the tutorial\n",
    "# clf.predict(X_test)\n",
    "score=clf.score(X_test,Y_test)\n",
    "score"
   ]
  },
  {
   "cell_type": "code",
   "execution_count": 12,
   "id": "circular-bullet",
   "metadata": {},
   "outputs": [
    {
     "data": {
      "text/plain": [
       "[('trans_time', 0.9993530449072575),\n",
       " ('total_amount', 1.6553112969913428e-06),\n",
       " ('nin', 0.0),\n",
       " ('nout', 0.0),\n",
       " ('vout_weights', 0.000645299781445413)]"
      ]
     },
     "execution_count": 12,
     "metadata": {},
     "output_type": "execute_result"
    }
   ],
   "source": [
    "[*zip(feature_name, clf.feature_importances_)]"
   ]
  },
  {
   "cell_type": "code",
   "execution_count": null,
   "id": "consistent-wilson",
   "metadata": {},
   "outputs": [],
   "source": []
  }
 ],
 "metadata": {
  "kernelspec": {
   "display_name": "Python [conda env:py382] *",
   "language": "python",
   "name": "conda-env-py382-py"
  },
  "language_info": {
   "codemirror_mode": {
    "name": "ipython",
    "version": 3
   },
   "file_extension": ".py",
   "mimetype": "text/x-python",
   "name": "python",
   "nbconvert_exporter": "python",
   "pygments_lexer": "ipython3",
   "version": "3.8.2"
  }
 },
 "nbformat": 4,
 "nbformat_minor": 5
}
