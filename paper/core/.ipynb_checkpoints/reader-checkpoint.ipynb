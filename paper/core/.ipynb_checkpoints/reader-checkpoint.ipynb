{
 "cells": [
  {
   "cell_type": "code",
   "execution_count": 1,
   "id": "sublime-opening",
   "metadata": {},
   "outputs": [],
   "source": [
    "from sklearn.feature_extraction import DictVectorizer\n",
    "import csv\n",
    "from sklearn import tree\n",
    "from sklearn import preprocessing\n",
    "from six import StringIO\n",
    "import json\n",
    "import pandas as pd\n",
    "import os\n",
    "from prettytable import PrettyTable"
   ]
  },
  {
   "cell_type": "code",
   "execution_count": 2,
   "id": "activated-spirituality",
   "metadata": {},
   "outputs": [],
   "source": [
    "def read_csv_to_list(path):\n",
    "    messages = []\n",
    "    for root,dirs,files in os.walk(path):\n",
    "        for dir in dirs:\n",
    "            for r,ds,fs in os.walk(dir):\n",
    "                for f in fs:\n",
    "                    readFile(messages, r, f)\n",
    "        for file in files:\n",
    "            readFile(messages, root, file)\n",
    "    return messages"
   ]
  },
  {
   "cell_type": "code",
   "execution_count": 3,
   "id": "adjustable-cambridge",
   "metadata": {},
   "outputs": [],
   "source": [
    "def getAddrName(str):\n",
    "    return str.split('_txs.json')[0]"
   ]
  },
  {
   "cell_type": "code",
   "execution_count": 4,
   "id": "imperial-distribution",
   "metadata": {},
   "outputs": [],
   "source": [
    "def readFile(messages, rootName, fileName):\n",
    "    addrName = getAddrName(fileName)\n",
    "    f = open(os.path.join(rootName, fileName))\n",
    "    \n",
    "    line = f.readline()\n",
    "    while line:\n",
    "        transaction_json = json.loads(line)\n",
    "        messages.append(transaction_json)\n",
    "        line = f.readline()\n",
    "\n",
    "    f.close()"
   ]
  }
 ],
 "metadata": {
  "kernelspec": {
   "display_name": "Python [conda env:.conda-py382] *",
   "language": "python",
   "name": "conda-env-.conda-py382-py"
  },
  "language_info": {
   "codemirror_mode": {
    "name": "ipython",
    "version": 3
   },
   "file_extension": ".py",
   "mimetype": "text/x-python",
   "name": "python",
   "nbconvert_exporter": "python",
   "pygments_lexer": "ipython3",
   "version": "3.8.8"
  }
 },
 "nbformat": 4,
 "nbformat_minor": 5
}
