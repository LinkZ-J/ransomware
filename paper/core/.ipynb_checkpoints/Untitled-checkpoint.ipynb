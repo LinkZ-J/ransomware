{
 "cells": [
  {
   "cell_type": "code",
   "execution_count": 1,
   "id": "military-simple",
   "metadata": {},
   "outputs": [],
   "source": [
    "# 将勒索地址的相关交易信息从文件中读取出来，经过处理之后，储存起来\n",
    "from sklearn.feature_extraction import DictVectorizer\n",
    "import csv\n",
    "from sklearn import tree\n",
    "from sklearn import preprocessing\n",
    "from six import StringIO\n",
    "import json\n",
    "import pandas as pd\n",
    "import os\n",
    "from prettytable import PrettyTable"
   ]
  },
  {
   "cell_type": "code",
   "execution_count": null,
   "id": "impressive-cycling",
   "metadata": {},
   "outputs": [],
   "source": [
    "# 这个地址下是相关活动地址参与的交易\n",
    "# path = r\"/Users/linke/Desktop/myspace/git/ransomware/ransomware/ransomwareTxs\"\n",
    "# production_path = r\"/Users/linke/Desktop/myspace/git/ransomware/production/transfer.csv\"\n",
    "\n",
    "path = r\"R:/paper/git/ransomware/ransomware/ransomwareTxs/\"\n",
    "production_path = r\"R:/paper/ransomware/production/\""
   ]
  }
 ],
 "metadata": {
  "kernelspec": {
   "display_name": "Python [conda env:.conda-py382] *",
   "language": "python",
   "name": "conda-env-.conda-py382-py"
  },
  "language_info": {
   "codemirror_mode": {
    "name": "ipython",
    "version": 3
   },
   "file_extension": ".py",
   "mimetype": "text/x-python",
   "name": "python",
   "nbconvert_exporter": "python",
   "pygments_lexer": "ipython3",
   "version": "3.8.8"
  }
 },
 "nbformat": 4,
 "nbformat_minor": 5
}
