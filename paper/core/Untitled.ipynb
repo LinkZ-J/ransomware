{
 "cells": [
  {
   "cell_type": "code",
   "execution_count": 1,
   "id": "tight-sleep",
   "metadata": {},
   "outputs": [],
   "source": [
    "# 将勒索地址的相关交易信息从文件中读取出来，经过处理之后，储存起来\n",
    "from sklearn.feature_extraction import DictVectorizer\n",
    "import csv\n",
    "from sklearn import tree\n",
    "from sklearn import preprocessing\n",
    "from six import StringIO\n",
    "import json\n",
    "import pandas as pd\n",
    "import os\n",
    "from prettytable import PrettyTable"
   ]
  },
  {
   "cell_type": "code",
   "execution_count": 2,
   "id": "settled-reminder",
   "metadata": {},
   "outputs": [],
   "source": [
    "# 这个地址下是相关活动地址参与的交易\n",
    "# path = r\"/Users/linke/Desktop/myspace/git/ransomware/ransomware/ransomwareTxs\"\n",
    "# production_path = r\"/Users/linke/Desktop/myspace/git/ransomware/production/transfer.csv\"\n",
    "\n",
    "path = r\"R:/paper/git/ransomware/ransomware/ransomwareTxs/\"\n",
    "production_path = r\"R:/paper/ransomware/production/\""
   ]
  },
  {
   "cell_type": "code",
   "execution_count": 3,
   "id": "fresh-christian",
   "metadata": {},
   "outputs": [],
   "source": [
    "# 用于存储最终结果\n",
    "messages = []"
   ]
  },
  {
   "cell_type": "code",
   "execution_count": 4,
   "id": "recreational-genome",
   "metadata": {},
   "outputs": [],
   "source": [
    "def getAddrName(str):\n",
    "    return str.split('_txs.json')[0]"
   ]
  },
  {
   "cell_type": "code",
   "execution_count": 5,
   "id": "french-suffering",
   "metadata": {},
   "outputs": [],
   "source": [
    "def calculateVoutWeights(vouts):\n",
    "    sum_vout = 0\n",
    "    max_vout = 0\n",
    "    for vout_item in vouts:\n",
    "        sum_vout += vout_item['value']\n",
    "        if vout_item['value'] > max_vout:\n",
    "            max_vout = vout_item['value']\n",
    "    return max_vout/sum_vout"
   ]
  },
  {
   "cell_type": "code",
   "execution_count": 6,
   "id": "narrative-tiffany",
   "metadata": {},
   "outputs": [],
   "source": [
    "def readFile(rootName, fileName):\n",
    "    addrName = getAddrName(fileName)\n",
    "    f = open(os.path.join(rootName, fileName))\n",
    "    \n",
    "    line = f.readline()\n",
    "    while line:\n",
    "        transaction_json = json.loads(line)\n",
    "        result = handleTransJson(addrName, transaction_json)\n",
    "        messages.append(result)\n",
    "        line = f.readline()\n",
    "\n",
    "    f.close()"
   ]
  },
  {
   "cell_type": "code",
   "execution_count": 7,
   "id": "parliamentary-trauma",
   "metadata": {},
   "outputs": [],
   "source": [
    "def handleTransJson(addr, trans_json):\n",
    "    ransom_message = []\n",
    "    transfer_message = []\n",
    "    \n",
    "    for vin_item in trans_json['vin']:\n",
    "        if(vin_item['address'] == addr):  \n",
    "#             勒索地址作为输入\n",
    "            transfer_message.append(trans_json['_id'])\n",
    "            transfer_message.append(trans_json['timestamp'])\n",
    "            transfer_message.append(trans_json['size'])\n",
    "            \n",
    "            transfer_message.append(trans_json['n_in'])\n",
    "            transfer_message.append(trans_json['n_out'])\n",
    "            \n",
    "            transfer_message.append(calculateVoutWeights(trans_json['vout']))\n",
    "            return [ransom_message, transfer_message]\n",
    "            \n",
    "    ransom_message.append(trans_json['_id'])\n",
    "    ransom_message.append(trans_json['timestamp'])\n",
    "    ransom_message.append(trans_json['size'])\n",
    "    return [ransom_message, transfer_message]"
   ]
  },
  {
   "cell_type": "code",
   "execution_count": null,
   "id": "empirical-reform",
   "metadata": {},
   "outputs": [],
   "source": []
  }
 ],
 "metadata": {
  "kernelspec": {
   "display_name": "Python [conda env:.conda-py382] *",
   "language": "python",
   "name": "conda-env-.conda-py382-py"
  },
  "language_info": {
   "codemirror_mode": {
    "name": "ipython",
    "version": 3
   },
   "file_extension": ".py",
   "mimetype": "text/x-python",
   "name": "python",
   "nbconvert_exporter": "python",
   "pygments_lexer": "ipython3",
   "version": "3.8.8"
  }
 },
 "nbformat": 4,
 "nbformat_minor": 5
}
